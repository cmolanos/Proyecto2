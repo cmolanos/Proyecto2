{
 "cells": [
  {
   "cell_type": "code",
   "execution_count": 1,
   "metadata": {},
   "outputs": [
    {
     "name": "stdout",
     "output_type": "stream",
     "text": [
      "Collecting psycopg2\n",
      "  Obtaining dependency information for psycopg2 from https://files.pythonhosted.org/packages/33/39/5a9a229bb5414abeb86e33b8fc8143ab0aecce5a7f698a53e31367d30caa/psycopg2-2.9.10-cp311-cp311-win_amd64.whl.metadata\n",
      "  Downloading psycopg2-2.9.10-cp311-cp311-win_amd64.whl.metadata (5.0 kB)\n",
      "Downloading psycopg2-2.9.10-cp311-cp311-win_amd64.whl (1.2 MB)\n",
      "   ---------------------------------------- 0.0/1.2 MB ? eta -:--:--\n",
      "   - -------------------------------------- 0.0/1.2 MB 660.6 kB/s eta 0:00:02\n",
      "   -- ------------------------------------- 0.1/1.2 MB 812.7 kB/s eta 0:00:02\n",
      "   --------- ------------------------------ 0.3/1.2 MB 2.2 MB/s eta 0:00:01\n",
      "   ---------------------- ----------------- 0.7/1.2 MB 4.2 MB/s eta 0:00:01\n",
      "   -------------------------------------- - 1.1/1.2 MB 5.4 MB/s eta 0:00:01\n",
      "   ---------------------------------------- 1.2/1.2 MB 4.9 MB/s eta 0:00:00\n",
      "Installing collected packages: psycopg2\n",
      "Successfully installed psycopg2-2.9.10\n",
      "Note: you may need to restart the kernel to use updated packages.\n"
     ]
    }
   ],
   "source": [
    "pip install psycopg2\n"
   ]
  },
  {
   "cell_type": "code",
   "execution_count": null,
   "metadata": {},
   "outputs": [
    {
     "name": "stdout",
     "output_type": "stream",
     "text": [
      "Conexión exitosa\n"
     ]
    }
   ],
   "source": [
    "import psycopg2\n",
    "\n",
    "# Configuración de conexión\n",
    "engine = psycopg2.connect(\n",
    "    dbname=\"Proyecto2\",\n",
    "    user=\"postgres\",\n",
    "    password=\"Macondo#1998\",  \n",
    "    host=\"proyecto-2.cm25djalmhtj.us-east-1.rds.amazonaws.com\",\n",
    "    port=\"5432\"\n",
    ")\n",
    "\n",
    "# Verificación de conexión\n",
    "print(\"Conexión exitosa\")\n"
   ]
  }
 ],
 "metadata": {
  "kernelspec": {
   "display_name": "base",
   "language": "python",
   "name": "python3"
  },
  "language_info": {
   "codemirror_mode": {
    "name": "ipython",
    "version": 3
   },
   "file_extension": ".py",
   "mimetype": "text/x-python",
   "name": "python",
   "nbconvert_exporter": "python",
   "pygments_lexer": "ipython3",
   "version": "3.11.5"
  }
 },
 "nbformat": 4,
 "nbformat_minor": 2
}
