{
 "cells": [
  {
   "cell_type": "markdown",
   "metadata": {},
   "source": [
    "Modelo 1\n",
    "\n",
    "¿Cuáles combinaciones de características demograficas que hacen que una persona se suscriba a un depósito a plazo? \n",
    "\n",
    "Features:\n",
    "\n",
    "1 - age \n",
    "2 - job : type of job \n",
    "3 - marital : marital status \n",
    "4 - education \n",
    "5 - balance: average yearly balance\n",
    "6 - housing: has housing loan? \n",
    "7 - loan: has personal loan? \n",
    "\n",
    "Variable Objetivo:\n",
    "\n",
    "y - has the client subscribed a term deposit? (binary: \"yes\",\"no\")"
   ]
  },
  {
   "cell_type": "code",
   "execution_count": 3,
   "metadata": {},
   "outputs": [
    {
     "name": "stdout",
     "output_type": "stream",
     "text": [
      "WARNING:tensorflow:From C:\\Users\\Carlos Andres\\AppData\\Roaming\\Python\\Python311\\site-packages\\keras\\src\\losses.py:2976: The name tf.losses.sparse_softmax_cross_entropy is deprecated. Please use tf.compat.v1.losses.sparse_softmax_cross_entropy instead.\n",
      "\n"
     ]
    }
   ],
   "source": [
    "import numpy as np\n",
    "import pandas as pd\n",
    "import tensorflow as tf\n",
    "import keras"
   ]
  },
  {
   "cell_type": "code",
   "execution_count": 4,
   "metadata": {},
   "outputs": [
    {
     "name": "stdout",
     "output_type": "stream",
     "text": [
      "   age           job  marital  education  balance  housing  loan  contact  \\\n",
      "0   58    management  married   tertiary     2143        1     0  unknown   \n",
      "1   44    technician   single  secondary       29        1     0  unknown   \n",
      "2   33  entrepreneur  married  secondary        2        1     1  unknown   \n",
      "3   47   blue-collar  married    unknown     1506        1     0  unknown   \n",
      "4   33       unknown   single    unknown        1        0     0  unknown   \n",
      "\n",
      "   day month  duration  campaign  pdays poutcome  y  \n",
      "0    5   may       261         1     -1  unknown  0  \n",
      "1    5   may       151         1     -1  unknown  0  \n",
      "2    5   may        76         1     -1  unknown  0  \n",
      "3    5   may        92         1     -1  unknown  0  \n",
      "4    5   may       198         1     -1  unknown  0  \n"
     ]
    }
   ],
   "source": [
    "file_path = r'C:\\Users\\Carlos Andres\\Desktop\\Proyecto2\\Modelamiento\\Bank.csv'\n",
    "\n",
    "# Leer el archivo CSV con el delimitador \";\"\n",
    "df = pd.read_csv(file_path, delimiter=',')\n",
    "\n",
    "# Mostrar las primeras filas para verificar que se haya cargado correctamente\n",
    "print(df.head())\n"
   ]
  },
  {
   "cell_type": "code",
   "execution_count": 5,
   "metadata": {},
   "outputs": [
    {
     "data": {
      "text/html": [
       "<div>\n",
       "<style scoped>\n",
       "    .dataframe tbody tr th:only-of-type {\n",
       "        vertical-align: middle;\n",
       "    }\n",
       "\n",
       "    .dataframe tbody tr th {\n",
       "        vertical-align: top;\n",
       "    }\n",
       "\n",
       "    .dataframe thead th {\n",
       "        text-align: right;\n",
       "    }\n",
       "</style>\n",
       "<table border=\"1\" class=\"dataframe\">\n",
       "  <thead>\n",
       "    <tr style=\"text-align: right;\">\n",
       "      <th></th>\n",
       "      <th>age</th>\n",
       "      <th>job</th>\n",
       "      <th>marital</th>\n",
       "      <th>education</th>\n",
       "      <th>balance</th>\n",
       "      <th>housing</th>\n",
       "      <th>loan</th>\n",
       "      <th>contact</th>\n",
       "      <th>day</th>\n",
       "      <th>month</th>\n",
       "      <th>duration</th>\n",
       "      <th>campaign</th>\n",
       "      <th>pdays</th>\n",
       "      <th>poutcome</th>\n",
       "      <th>y</th>\n",
       "    </tr>\n",
       "  </thead>\n",
       "  <tbody>\n",
       "    <tr>\n",
       "      <th>0</th>\n",
       "      <td>58</td>\n",
       "      <td>management</td>\n",
       "      <td>married</td>\n",
       "      <td>tertiary</td>\n",
       "      <td>2143</td>\n",
       "      <td>1</td>\n",
       "      <td>0</td>\n",
       "      <td>unknown</td>\n",
       "      <td>5</td>\n",
       "      <td>may</td>\n",
       "      <td>261</td>\n",
       "      <td>1</td>\n",
       "      <td>-1</td>\n",
       "      <td>unknown</td>\n",
       "      <td>0</td>\n",
       "    </tr>\n",
       "    <tr>\n",
       "      <th>1</th>\n",
       "      <td>44</td>\n",
       "      <td>technician</td>\n",
       "      <td>single</td>\n",
       "      <td>secondary</td>\n",
       "      <td>29</td>\n",
       "      <td>1</td>\n",
       "      <td>0</td>\n",
       "      <td>unknown</td>\n",
       "      <td>5</td>\n",
       "      <td>may</td>\n",
       "      <td>151</td>\n",
       "      <td>1</td>\n",
       "      <td>-1</td>\n",
       "      <td>unknown</td>\n",
       "      <td>0</td>\n",
       "    </tr>\n",
       "    <tr>\n",
       "      <th>2</th>\n",
       "      <td>33</td>\n",
       "      <td>entrepreneur</td>\n",
       "      <td>married</td>\n",
       "      <td>secondary</td>\n",
       "      <td>2</td>\n",
       "      <td>1</td>\n",
       "      <td>1</td>\n",
       "      <td>unknown</td>\n",
       "      <td>5</td>\n",
       "      <td>may</td>\n",
       "      <td>76</td>\n",
       "      <td>1</td>\n",
       "      <td>-1</td>\n",
       "      <td>unknown</td>\n",
       "      <td>0</td>\n",
       "    </tr>\n",
       "    <tr>\n",
       "      <th>3</th>\n",
       "      <td>47</td>\n",
       "      <td>blue-collar</td>\n",
       "      <td>married</td>\n",
       "      <td>unknown</td>\n",
       "      <td>1506</td>\n",
       "      <td>1</td>\n",
       "      <td>0</td>\n",
       "      <td>unknown</td>\n",
       "      <td>5</td>\n",
       "      <td>may</td>\n",
       "      <td>92</td>\n",
       "      <td>1</td>\n",
       "      <td>-1</td>\n",
       "      <td>unknown</td>\n",
       "      <td>0</td>\n",
       "    </tr>\n",
       "    <tr>\n",
       "      <th>4</th>\n",
       "      <td>33</td>\n",
       "      <td>unknown</td>\n",
       "      <td>single</td>\n",
       "      <td>unknown</td>\n",
       "      <td>1</td>\n",
       "      <td>0</td>\n",
       "      <td>0</td>\n",
       "      <td>unknown</td>\n",
       "      <td>5</td>\n",
       "      <td>may</td>\n",
       "      <td>198</td>\n",
       "      <td>1</td>\n",
       "      <td>-1</td>\n",
       "      <td>unknown</td>\n",
       "      <td>0</td>\n",
       "    </tr>\n",
       "  </tbody>\n",
       "</table>\n",
       "</div>"
      ],
      "text/plain": [
       "   age           job  marital  education  balance  housing  loan  contact  \\\n",
       "0   58    management  married   tertiary     2143        1     0  unknown   \n",
       "1   44    technician   single  secondary       29        1     0  unknown   \n",
       "2   33  entrepreneur  married  secondary        2        1     1  unknown   \n",
       "3   47   blue-collar  married    unknown     1506        1     0  unknown   \n",
       "4   33       unknown   single    unknown        1        0     0  unknown   \n",
       "\n",
       "   day month  duration  campaign  pdays poutcome  y  \n",
       "0    5   may       261         1     -1  unknown  0  \n",
       "1    5   may       151         1     -1  unknown  0  \n",
       "2    5   may        76         1     -1  unknown  0  \n",
       "3    5   may        92         1     -1  unknown  0  \n",
       "4    5   may       198         1     -1  unknown  0  "
      ]
     },
     "execution_count": 5,
     "metadata": {},
     "output_type": "execute_result"
    }
   ],
   "source": [
    "df.head()"
   ]
  },
  {
   "cell_type": "code",
   "execution_count": 6,
   "metadata": {},
   "outputs": [],
   "source": [
    "cat_int_feats = ['housing', 'loan']"
   ]
  },
  {
   "cell_type": "code",
   "execution_count": 7,
   "metadata": {},
   "outputs": [],
   "source": [
    "cat_str_feats = ['job', 'marital', 'education']"
   ]
  },
  {
   "cell_type": "code",
   "execution_count": 8,
   "metadata": {},
   "outputs": [],
   "source": [
    "num_feats = ['age', 'balance']"
   ]
  },
  {
   "cell_type": "code",
   "execution_count": 9,
   "metadata": {},
   "outputs": [],
   "source": [
    "feats_ordered = cat_int_feats+cat_str_feats+num_feats"
   ]
  },
  {
   "cell_type": "code",
   "execution_count": 10,
   "metadata": {},
   "outputs": [],
   "source": [
    "df = df[feats_ordered+['y']]"
   ]
  },
  {
   "cell_type": "code",
   "execution_count": 11,
   "metadata": {},
   "outputs": [
    {
     "data": {
      "text/html": [
       "<div>\n",
       "<style scoped>\n",
       "    .dataframe tbody tr th:only-of-type {\n",
       "        vertical-align: middle;\n",
       "    }\n",
       "\n",
       "    .dataframe tbody tr th {\n",
       "        vertical-align: top;\n",
       "    }\n",
       "\n",
       "    .dataframe thead th {\n",
       "        text-align: right;\n",
       "    }\n",
       "</style>\n",
       "<table border=\"1\" class=\"dataframe\">\n",
       "  <thead>\n",
       "    <tr style=\"text-align: right;\">\n",
       "      <th></th>\n",
       "      <th>housing</th>\n",
       "      <th>loan</th>\n",
       "      <th>job</th>\n",
       "      <th>marital</th>\n",
       "      <th>education</th>\n",
       "      <th>age</th>\n",
       "      <th>balance</th>\n",
       "      <th>y</th>\n",
       "    </tr>\n",
       "  </thead>\n",
       "  <tbody>\n",
       "    <tr>\n",
       "      <th>0</th>\n",
       "      <td>1</td>\n",
       "      <td>0</td>\n",
       "      <td>management</td>\n",
       "      <td>married</td>\n",
       "      <td>tertiary</td>\n",
       "      <td>58</td>\n",
       "      <td>2143</td>\n",
       "      <td>0</td>\n",
       "    </tr>\n",
       "    <tr>\n",
       "      <th>1</th>\n",
       "      <td>1</td>\n",
       "      <td>0</td>\n",
       "      <td>technician</td>\n",
       "      <td>single</td>\n",
       "      <td>secondary</td>\n",
       "      <td>44</td>\n",
       "      <td>29</td>\n",
       "      <td>0</td>\n",
       "    </tr>\n",
       "    <tr>\n",
       "      <th>2</th>\n",
       "      <td>1</td>\n",
       "      <td>1</td>\n",
       "      <td>entrepreneur</td>\n",
       "      <td>married</td>\n",
       "      <td>secondary</td>\n",
       "      <td>33</td>\n",
       "      <td>2</td>\n",
       "      <td>0</td>\n",
       "    </tr>\n",
       "    <tr>\n",
       "      <th>3</th>\n",
       "      <td>1</td>\n",
       "      <td>0</td>\n",
       "      <td>blue-collar</td>\n",
       "      <td>married</td>\n",
       "      <td>unknown</td>\n",
       "      <td>47</td>\n",
       "      <td>1506</td>\n",
       "      <td>0</td>\n",
       "    </tr>\n",
       "    <tr>\n",
       "      <th>4</th>\n",
       "      <td>0</td>\n",
       "      <td>0</td>\n",
       "      <td>unknown</td>\n",
       "      <td>single</td>\n",
       "      <td>unknown</td>\n",
       "      <td>33</td>\n",
       "      <td>1</td>\n",
       "      <td>0</td>\n",
       "    </tr>\n",
       "  </tbody>\n",
       "</table>\n",
       "</div>"
      ],
      "text/plain": [
       "   housing  loan           job  marital  education  age  balance  y\n",
       "0        1     0    management  married   tertiary   58     2143  0\n",
       "1        1     0    technician   single  secondary   44       29  0\n",
       "2        1     1  entrepreneur  married  secondary   33        2  0\n",
       "3        1     0   blue-collar  married    unknown   47     1506  0\n",
       "4        0     0       unknown   single    unknown   33        1  0"
      ]
     },
     "execution_count": 11,
     "metadata": {},
     "output_type": "execute_result"
    }
   ],
   "source": [
    "df.head()"
   ]
  },
  {
   "cell_type": "code",
   "execution_count": 12,
   "metadata": {},
   "outputs": [
    {
     "data": {
      "text/html": [
       "<div>\n",
       "<style scoped>\n",
       "    .dataframe tbody tr th:only-of-type {\n",
       "        vertical-align: middle;\n",
       "    }\n",
       "\n",
       "    .dataframe tbody tr th {\n",
       "        vertical-align: top;\n",
       "    }\n",
       "\n",
       "    .dataframe thead th {\n",
       "        text-align: right;\n",
       "    }\n",
       "</style>\n",
       "<table border=\"1\" class=\"dataframe\">\n",
       "  <thead>\n",
       "    <tr style=\"text-align: right;\">\n",
       "      <th></th>\n",
       "      <th>housing</th>\n",
       "      <th>loan</th>\n",
       "      <th>job</th>\n",
       "      <th>marital</th>\n",
       "      <th>education</th>\n",
       "      <th>age</th>\n",
       "      <th>balance</th>\n",
       "      <th>y</th>\n",
       "    </tr>\n",
       "  </thead>\n",
       "  <tbody>\n",
       "    <tr>\n",
       "      <th>14789</th>\n",
       "      <td>0</td>\n",
       "      <td>1</td>\n",
       "      <td>blue-collar</td>\n",
       "      <td>single</td>\n",
       "      <td>secondary</td>\n",
       "      <td>45</td>\n",
       "      <td>0</td>\n",
       "      <td>0</td>\n",
       "    </tr>\n",
       "    <tr>\n",
       "      <th>8968</th>\n",
       "      <td>0</td>\n",
       "      <td>0</td>\n",
       "      <td>management</td>\n",
       "      <td>married</td>\n",
       "      <td>tertiary</td>\n",
       "      <td>41</td>\n",
       "      <td>5</td>\n",
       "      <td>0</td>\n",
       "    </tr>\n",
       "    <tr>\n",
       "      <th>34685</th>\n",
       "      <td>1</td>\n",
       "      <td>0</td>\n",
       "      <td>management</td>\n",
       "      <td>single</td>\n",
       "      <td>secondary</td>\n",
       "      <td>40</td>\n",
       "      <td>906</td>\n",
       "      <td>0</td>\n",
       "    </tr>\n",
       "    <tr>\n",
       "      <th>2369</th>\n",
       "      <td>1</td>\n",
       "      <td>0</td>\n",
       "      <td>admin.</td>\n",
       "      <td>single</td>\n",
       "      <td>secondary</td>\n",
       "      <td>25</td>\n",
       "      <td>768</td>\n",
       "      <td>0</td>\n",
       "    </tr>\n",
       "    <tr>\n",
       "      <th>36561</th>\n",
       "      <td>1</td>\n",
       "      <td>0</td>\n",
       "      <td>services</td>\n",
       "      <td>married</td>\n",
       "      <td>primary</td>\n",
       "      <td>37</td>\n",
       "      <td>0</td>\n",
       "      <td>0</td>\n",
       "    </tr>\n",
       "  </tbody>\n",
       "</table>\n",
       "</div>"
      ],
      "text/plain": [
       "       housing  loan          job  marital  education  age  balance  y\n",
       "14789        0     1  blue-collar   single  secondary   45        0  0\n",
       "8968         0     0   management  married   tertiary   41        5  0\n",
       "34685        1     0   management   single  secondary   40      906  0\n",
       "2369         1     0       admin.   single  secondary   25      768  0\n",
       "36561        1     0     services  married    primary   37        0  0"
      ]
     },
     "execution_count": 12,
     "metadata": {},
     "output_type": "execute_result"
    }
   ],
   "source": [
    "train = df.sample(frac=0.8, random_state=100)\n",
    "train.head()"
   ]
  },
  {
   "cell_type": "code",
   "execution_count": 13,
   "metadata": {},
   "outputs": [
    {
     "data": {
      "text/plain": [
       "(36169, 8)"
      ]
     },
     "execution_count": 13,
     "metadata": {},
     "output_type": "execute_result"
    }
   ],
   "source": [
    "train.shape"
   ]
  },
  {
   "cell_type": "code",
   "execution_count": 14,
   "metadata": {},
   "outputs": [
    {
     "data": {
      "text/html": [
       "<div>\n",
       "<style scoped>\n",
       "    .dataframe tbody tr th:only-of-type {\n",
       "        vertical-align: middle;\n",
       "    }\n",
       "\n",
       "    .dataframe tbody tr th {\n",
       "        vertical-align: top;\n",
       "    }\n",
       "\n",
       "    .dataframe thead th {\n",
       "        text-align: right;\n",
       "    }\n",
       "</style>\n",
       "<table border=\"1\" class=\"dataframe\">\n",
       "  <thead>\n",
       "    <tr style=\"text-align: right;\">\n",
       "      <th></th>\n",
       "      <th>housing</th>\n",
       "      <th>loan</th>\n",
       "      <th>job</th>\n",
       "      <th>marital</th>\n",
       "      <th>education</th>\n",
       "      <th>age</th>\n",
       "      <th>balance</th>\n",
       "      <th>y</th>\n",
       "    </tr>\n",
       "  </thead>\n",
       "  <tbody>\n",
       "    <tr>\n",
       "      <th>9</th>\n",
       "      <td>1</td>\n",
       "      <td>0</td>\n",
       "      <td>technician</td>\n",
       "      <td>single</td>\n",
       "      <td>secondary</td>\n",
       "      <td>43</td>\n",
       "      <td>593</td>\n",
       "      <td>0</td>\n",
       "    </tr>\n",
       "    <tr>\n",
       "      <th>27</th>\n",
       "      <td>1</td>\n",
       "      <td>1</td>\n",
       "      <td>entrepreneur</td>\n",
       "      <td>married</td>\n",
       "      <td>secondary</td>\n",
       "      <td>52</td>\n",
       "      <td>113</td>\n",
       "      <td>0</td>\n",
       "    </tr>\n",
       "    <tr>\n",
       "      <th>28</th>\n",
       "      <td>1</td>\n",
       "      <td>0</td>\n",
       "      <td>management</td>\n",
       "      <td>single</td>\n",
       "      <td>secondary</td>\n",
       "      <td>46</td>\n",
       "      <td>-246</td>\n",
       "      <td>0</td>\n",
       "    </tr>\n",
       "    <tr>\n",
       "      <th>40</th>\n",
       "      <td>1</td>\n",
       "      <td>0</td>\n",
       "      <td>services</td>\n",
       "      <td>divorced</td>\n",
       "      <td>secondary</td>\n",
       "      <td>44</td>\n",
       "      <td>2586</td>\n",
       "      <td>0</td>\n",
       "    </tr>\n",
       "    <tr>\n",
       "      <th>44</th>\n",
       "      <td>1</td>\n",
       "      <td>0</td>\n",
       "      <td>retired</td>\n",
       "      <td>married</td>\n",
       "      <td>unknown</td>\n",
       "      <td>58</td>\n",
       "      <td>96</td>\n",
       "      <td>0</td>\n",
       "    </tr>\n",
       "  </tbody>\n",
       "</table>\n",
       "</div>"
      ],
      "text/plain": [
       "    housing  loan           job   marital  education  age  balance  y\n",
       "9         1     0    technician    single  secondary   43      593  0\n",
       "27        1     1  entrepreneur   married  secondary   52      113  0\n",
       "28        1     0    management    single  secondary   46     -246  0\n",
       "40        1     0      services  divorced  secondary   44     2586  0\n",
       "44        1     0       retired   married    unknown   58       96  0"
      ]
     },
     "execution_count": 14,
     "metadata": {},
     "output_type": "execute_result"
    }
   ],
   "source": [
    "test = df.drop(train.index)\n",
    "test.head()"
   ]
  },
  {
   "cell_type": "code",
   "execution_count": 15,
   "metadata": {},
   "outputs": [],
   "source": [
    "val = train.sample(frac=0.2, random_state=100)"
   ]
  },
  {
   "cell_type": "code",
   "execution_count": 16,
   "metadata": {},
   "outputs": [
    {
     "data": {
      "text/plain": [
       "(7234, 8)"
      ]
     },
     "execution_count": 16,
     "metadata": {},
     "output_type": "execute_result"
    }
   ],
   "source": [
    "val.shape"
   ]
  },
  {
   "cell_type": "code",
   "execution_count": 17,
   "metadata": {},
   "outputs": [],
   "source": [
    "train = train.drop(val.index)"
   ]
  },
  {
   "cell_type": "code",
   "execution_count": 18,
   "metadata": {},
   "outputs": [
    {
     "name": "stdout",
     "output_type": "stream",
     "text": [
      "(28935, 8)\n",
      "(7234, 8)\n",
      "(9042, 8)\n"
     ]
    }
   ],
   "source": [
    "print(train.shape)\n",
    "print(val.shape)\n",
    "print(test.shape)"
   ]
  },
  {
   "cell_type": "code",
   "execution_count": 19,
   "metadata": {},
   "outputs": [
    {
     "data": {
      "text/html": [
       "<div>\n",
       "<style scoped>\n",
       "    .dataframe tbody tr th:only-of-type {\n",
       "        vertical-align: middle;\n",
       "    }\n",
       "\n",
       "    .dataframe tbody tr th {\n",
       "        vertical-align: top;\n",
       "    }\n",
       "\n",
       "    .dataframe thead th {\n",
       "        text-align: right;\n",
       "    }\n",
       "</style>\n",
       "<table border=\"1\" class=\"dataframe\">\n",
       "  <thead>\n",
       "    <tr style=\"text-align: right;\">\n",
       "      <th></th>\n",
       "      <th>housing</th>\n",
       "      <th>loan</th>\n",
       "      <th>age</th>\n",
       "      <th>balance</th>\n",
       "      <th>y</th>\n",
       "    </tr>\n",
       "  </thead>\n",
       "  <tbody>\n",
       "    <tr>\n",
       "      <th>count</th>\n",
       "      <td>28935.000000</td>\n",
       "      <td>28935.000000</td>\n",
       "      <td>28935.000000</td>\n",
       "      <td>28935.000000</td>\n",
       "      <td>28935.000000</td>\n",
       "    </tr>\n",
       "    <tr>\n",
       "      <th>mean</th>\n",
       "      <td>0.555314</td>\n",
       "      <td>0.161776</td>\n",
       "      <td>40.936478</td>\n",
       "      <td>1367.374736</td>\n",
       "      <td>0.117954</td>\n",
       "    </tr>\n",
       "    <tr>\n",
       "      <th>std</th>\n",
       "      <td>0.496940</td>\n",
       "      <td>0.368252</td>\n",
       "      <td>10.610124</td>\n",
       "      <td>2999.597894</td>\n",
       "      <td>0.322559</td>\n",
       "    </tr>\n",
       "    <tr>\n",
       "      <th>min</th>\n",
       "      <td>0.000000</td>\n",
       "      <td>0.000000</td>\n",
       "      <td>18.000000</td>\n",
       "      <td>-6847.000000</td>\n",
       "      <td>0.000000</td>\n",
       "    </tr>\n",
       "    <tr>\n",
       "      <th>25%</th>\n",
       "      <td>0.000000</td>\n",
       "      <td>0.000000</td>\n",
       "      <td>33.000000</td>\n",
       "      <td>74.000000</td>\n",
       "      <td>0.000000</td>\n",
       "    </tr>\n",
       "    <tr>\n",
       "      <th>50%</th>\n",
       "      <td>1.000000</td>\n",
       "      <td>0.000000</td>\n",
       "      <td>39.000000</td>\n",
       "      <td>457.000000</td>\n",
       "      <td>0.000000</td>\n",
       "    </tr>\n",
       "    <tr>\n",
       "      <th>75%</th>\n",
       "      <td>1.000000</td>\n",
       "      <td>0.000000</td>\n",
       "      <td>48.000000</td>\n",
       "      <td>1437.000000</td>\n",
       "      <td>0.000000</td>\n",
       "    </tr>\n",
       "    <tr>\n",
       "      <th>max</th>\n",
       "      <td>1.000000</td>\n",
       "      <td>1.000000</td>\n",
       "      <td>95.000000</td>\n",
       "      <td>98417.000000</td>\n",
       "      <td>1.000000</td>\n",
       "    </tr>\n",
       "  </tbody>\n",
       "</table>\n",
       "</div>"
      ],
      "text/plain": [
       "            housing          loan           age       balance             y\n",
       "count  28935.000000  28935.000000  28935.000000  28935.000000  28935.000000\n",
       "mean       0.555314      0.161776     40.936478   1367.374736      0.117954\n",
       "std        0.496940      0.368252     10.610124   2999.597894      0.322559\n",
       "min        0.000000      0.000000     18.000000  -6847.000000      0.000000\n",
       "25%        0.000000      0.000000     33.000000     74.000000      0.000000\n",
       "50%        1.000000      0.000000     39.000000    457.000000      0.000000\n",
       "75%        1.000000      0.000000     48.000000   1437.000000      0.000000\n",
       "max        1.000000      1.000000     95.000000  98417.000000      1.000000"
      ]
     },
     "execution_count": 19,
     "metadata": {},
     "output_type": "execute_result"
    }
   ],
   "source": [
    "train.describe()"
   ]
  },
  {
   "cell_type": "code",
   "execution_count": 20,
   "metadata": {},
   "outputs": [],
   "source": [
    "def dataframe_to_dataset(dataframe):\n",
    "    dataframe = dataframe.copy()\n",
    "    labels = dataframe.pop(\"y\")\n",
    "    ds = tf.data.Dataset.from_tensor_slices((dict(dataframe), labels))\n",
    "    ds = ds.shuffle(buffer_size=len(dataframe))\n",
    "    return ds"
   ]
  },
  {
   "cell_type": "code",
   "execution_count": 21,
   "metadata": {},
   "outputs": [],
   "source": [
    "train_ds = dataframe_to_dataset(train)\n",
    "val_ds = dataframe_to_dataset(val)\n",
    "test_ds = dataframe_to_dataset(test)"
   ]
  },
  {
   "cell_type": "code",
   "execution_count": 22,
   "metadata": {},
   "outputs": [
    {
     "name": "stdout",
     "output_type": "stream",
     "text": [
      "<_ShuffleDataset element_spec=({'housing': TensorSpec(shape=(), dtype=tf.int64, name=None), 'loan': TensorSpec(shape=(), dtype=tf.int64, name=None), 'job': TensorSpec(shape=(), dtype=tf.string, name=None), 'marital': TensorSpec(shape=(), dtype=tf.string, name=None), 'education': TensorSpec(shape=(), dtype=tf.string, name=None), 'age': TensorSpec(shape=(), dtype=tf.int64, name=None), 'balance': TensorSpec(shape=(), dtype=tf.int64, name=None)}, TensorSpec(shape=(), dtype=tf.int64, name=None))>\n"
     ]
    }
   ],
   "source": [
    "print(train_ds)"
   ]
  },
  {
   "cell_type": "code",
   "execution_count": 23,
   "metadata": {},
   "outputs": [
    {
     "data": {
      "text/plain": [
       "tensorflow.python.data.ops.shuffle_op._ShuffleDataset"
      ]
     },
     "execution_count": 23,
     "metadata": {},
     "output_type": "execute_result"
    }
   ],
   "source": [
    "type(train_ds)"
   ]
  },
  {
   "cell_type": "code",
   "execution_count": 24,
   "metadata": {},
   "outputs": [
    {
     "name": "stdout",
     "output_type": "stream",
     "text": [
      "Input: {'housing': <tf.Tensor: shape=(), dtype=int64, numpy=1>, 'loan': <tf.Tensor: shape=(), dtype=int64, numpy=1>, 'job': <tf.Tensor: shape=(), dtype=string, numpy=b'technician'>, 'marital': <tf.Tensor: shape=(), dtype=string, numpy=b'single'>, 'education': <tf.Tensor: shape=(), dtype=string, numpy=b'secondary'>, 'age': <tf.Tensor: shape=(), dtype=int64, numpy=28>, 'balance': <tf.Tensor: shape=(), dtype=int64, numpy=-9>}\n",
      "y: tf.Tensor(0, shape=(), dtype=int64)\n"
     ]
    }
   ],
   "source": [
    "for x, y in train_ds.take(1):\n",
    "    print(\"Input:\", x)\n",
    "    print(\"y:\", y)"
   ]
  },
  {
   "cell_type": "code",
   "execution_count": 25,
   "metadata": {},
   "outputs": [],
   "source": [
    "batch_size = 32\n",
    "train_ds = train_ds.batch(batch_size)\n",
    "test_ds = test_ds.batch(batch_size)\n",
    "val_ds = val_ds.batch(batch_size)"
   ]
  },
  {
   "cell_type": "code",
   "execution_count": 26,
   "metadata": {},
   "outputs": [],
   "source": [
    "def encode_numerical_feature(feature, name, dataset):\n",
    "    # Crea capa de normalización para este feature\n",
    "    normalizer = keras.layers.Normalization()\n",
    "\n",
    "    # Prepara el dataset para considerar únicamente la feature de interés (name)\n",
    "    feature_ds = dataset.map(lambda x, y: x[name]) # selecciona variable\n",
    "    feature_ds = feature_ds.map(lambda x: tf.expand_dims(x, -1)) # deja el tensor de una dimensión\n",
    "\n",
    "    # Aprende las estadísticas de los datos (media, varianza)\n",
    "    normalizer.adapt(feature_ds)\n",
    "\n",
    "    # Aplica la normalización a la variable\n",
    "    encoded_feature = normalizer(feature)\n",
    "    return encoded_feature"
   ]
  },
  {
   "cell_type": "code",
   "execution_count": 27,
   "metadata": {},
   "outputs": [],
   "source": [
    "def encode_categorical_feature(feature, name, dataset, is_string):\n",
    "    lookup_class = keras.layers.StringLookup if is_string else keras.layers.IntegerLookup\n",
    "    # Crea una capa Lookup para retornas variables 0/1 (dummies)\n",
    "    # lookup: busca el valor correspondiente de la variable categórica\n",
    "    lookup = lookup_class(output_mode=\"binary\")\n",
    "\n",
    "    # Prepara el dataset para considerar únicamente la feature de interés (name)\n",
    "    feature_ds = dataset.map(lambda x, y: x[name]) # selecciona variable\n",
    "    feature_ds = feature_ds.map(lambda x: tf.expand_dims(x, -1)) # deja el tensor de una dimensión\n",
    "\n",
    "    # Aprende el conjunto de posibles valores que toma la variable categórica y asigna enteros\n",
    "    lookup.adapt(feature_ds)\n",
    "\n",
    "    # Aplica la conversión de categorías a enteros\n",
    "    encoded_feature = lookup(feature)\n",
    "    return encoded_feature"
   ]
  },
  {
   "cell_type": "code",
   "execution_count": 28,
   "metadata": {},
   "outputs": [
    {
     "name": "stdout",
     "output_type": "stream",
     "text": [
      "WARNING:tensorflow:From C:\\Users\\Carlos Andres\\AppData\\Roaming\\Python\\Python311\\site-packages\\keras\\src\\backend.py:1398: The name tf.executing_eagerly_outside_functions is deprecated. Please use tf.compat.v1.executing_eagerly_outside_functions instead.\n",
      "\n"
     ]
    }
   ],
   "source": [
    "inputs = []\n",
    "for i in cat_int_feats:\n",
    "  inputs.append(keras.Input(shape=(1,), name=i, dtype=\"int64\"))"
   ]
  },
  {
   "cell_type": "code",
   "execution_count": 29,
   "metadata": {},
   "outputs": [],
   "source": [
    "for i in cat_str_feats:\n",
    "  inputs.append(keras.Input(shape=(1,), name=i, dtype=\"string\"))"
   ]
  },
  {
   "cell_type": "code",
   "execution_count": 30,
   "metadata": {},
   "outputs": [],
   "source": [
    "for i in num_feats:\n",
    "  inputs.append(keras.Input(shape=(1,), name=i))"
   ]
  },
  {
   "cell_type": "code",
   "execution_count": 31,
   "metadata": {},
   "outputs": [
    {
     "name": "stdout",
     "output_type": "stream",
     "text": [
      "KerasTensor(type_spec=TensorSpec(shape=(None, 1), dtype=tf.int64, name='housing'), name='housing', description=\"created by layer 'housing'\")\n",
      "KerasTensor(type_spec=TensorSpec(shape=(None, 1), dtype=tf.int64, name='loan'), name='loan', description=\"created by layer 'loan'\")\n",
      "KerasTensor(type_spec=TensorSpec(shape=(None, 1), dtype=tf.string, name='job'), name='job', description=\"created by layer 'job'\")\n",
      "KerasTensor(type_spec=TensorSpec(shape=(None, 1), dtype=tf.string, name='marital'), name='marital', description=\"created by layer 'marital'\")\n",
      "KerasTensor(type_spec=TensorSpec(shape=(None, 1), dtype=tf.string, name='education'), name='education', description=\"created by layer 'education'\")\n",
      "KerasTensor(type_spec=TensorSpec(shape=(None, 1), dtype=tf.float32, name='age'), name='age', description=\"created by layer 'age'\")\n",
      "KerasTensor(type_spec=TensorSpec(shape=(None, 1), dtype=tf.float32, name='balance'), name='balance', description=\"created by layer 'balance'\")\n"
     ]
    }
   ],
   "source": [
    "for i in inputs:\n",
    "   print(i)"
   ]
  },
  {
   "cell_type": "code",
   "execution_count": 32,
   "metadata": {},
   "outputs": [],
   "source": [
    "feats_encoded=[]"
   ]
  },
  {
   "cell_type": "code",
   "execution_count": 33,
   "metadata": {},
   "outputs": [
    {
     "name": "stdout",
     "output_type": "stream",
     "text": [
      "WARNING:tensorflow:From C:\\Users\\Carlos Andres\\AppData\\Roaming\\Python\\Python311\\site-packages\\keras\\src\\utils\\tf_utils.py:492: The name tf.ragged.RaggedTensorValue is deprecated. Please use tf.compat.v1.ragged.RaggedTensorValue instead.\n",
      "\n"
     ]
    }
   ],
   "source": [
    "for i,feat in enumerate(cat_int_feats):\n",
    "  feats_encoded.append(\n",
    "      encode_categorical_feature(inputs[i], feat, train_ds, False)\n",
    "  )"
   ]
  },
  {
   "cell_type": "code",
   "execution_count": 34,
   "metadata": {},
   "outputs": [
    {
     "data": {
      "text/plain": [
       "2"
      ]
     },
     "execution_count": 34,
     "metadata": {},
     "output_type": "execute_result"
    }
   ],
   "source": [
    "len_feats = len(feats_encoded)\n",
    "len_feats"
   ]
  },
  {
   "cell_type": "code",
   "execution_count": 35,
   "metadata": {},
   "outputs": [],
   "source": [
    "for i,feat in enumerate(cat_str_feats):\n",
    "  feats_encoded.append(\n",
    "      encode_categorical_feature(inputs[len_feats+i], feat, train_ds, True)\n",
    "  )"
   ]
  },
  {
   "cell_type": "code",
   "execution_count": 36,
   "metadata": {},
   "outputs": [
    {
     "data": {
      "text/plain": [
       "5"
      ]
     },
     "execution_count": 36,
     "metadata": {},
     "output_type": "execute_result"
    }
   ],
   "source": [
    "len_feats = len(feats_encoded)\n",
    "len_feats"
   ]
  },
  {
   "cell_type": "code",
   "execution_count": 37,
   "metadata": {},
   "outputs": [],
   "source": [
    "for i,feat in enumerate(num_feats):\n",
    "  feats_encoded.append(\n",
    "      encode_numerical_feature(inputs[len_feats+i], feat, train_ds)\n",
    "  )"
   ]
  },
  {
   "cell_type": "code",
   "execution_count": 38,
   "metadata": {},
   "outputs": [
    {
     "name": "stdout",
     "output_type": "stream",
     "text": [
      "KerasTensor(type_spec=TensorSpec(shape=(None, 3), dtype=tf.float32, name=None), name='integer_lookup/bincount/DenseBincount:0', description=\"created by layer 'integer_lookup'\")\n",
      "KerasTensor(type_spec=TensorSpec(shape=(None, 3), dtype=tf.float32, name=None), name='integer_lookup_1/bincount/DenseBincount:0', description=\"created by layer 'integer_lookup_1'\")\n",
      "KerasTensor(type_spec=TensorSpec(shape=(None, 13), dtype=tf.float32, name=None), name='string_lookup/bincount/DenseBincount:0', description=\"created by layer 'string_lookup'\")\n",
      "KerasTensor(type_spec=TensorSpec(shape=(None, 4), dtype=tf.float32, name=None), name='string_lookup_1/bincount/DenseBincount:0', description=\"created by layer 'string_lookup_1'\")\n",
      "KerasTensor(type_spec=TensorSpec(shape=(None, 5), dtype=tf.float32, name=None), name='string_lookup_2/bincount/DenseBincount:0', description=\"created by layer 'string_lookup_2'\")\n",
      "KerasTensor(type_spec=TensorSpec(shape=(None, 1), dtype=tf.float32, name=None), name='normalization/truediv:0', description=\"created by layer 'normalization'\")\n",
      "KerasTensor(type_spec=TensorSpec(shape=(None, 1), dtype=tf.float32, name=None), name='normalization_1/truediv:0', description=\"created by layer 'normalization_1'\")\n"
     ]
    }
   ],
   "source": [
    "for i in feats_encoded:\n",
    "  print(i)"
   ]
  },
  {
   "cell_type": "code",
   "execution_count": 39,
   "metadata": {},
   "outputs": [],
   "source": [
    "all_feats = keras.layers.concatenate(feats_encoded)"
   ]
  },
  {
   "cell_type": "code",
   "execution_count": 40,
   "metadata": {},
   "outputs": [
    {
     "data": {
      "text/plain": [
       "keras.src.engine.keras_tensor.KerasTensor"
      ]
     },
     "execution_count": 40,
     "metadata": {},
     "output_type": "execute_result"
    }
   ],
   "source": [
    "type(all_feats)"
   ]
  },
  {
   "cell_type": "code",
   "execution_count": 41,
   "metadata": {},
   "outputs": [],
   "source": [
    "model_layers = keras.layers.Dense(32, activation='relu')(all_feats)"
   ]
  },
  {
   "cell_type": "code",
   "execution_count": 42,
   "metadata": {},
   "outputs": [],
   "source": [
    "model_layers = keras.layers.Dense(1, activation='sigmoid')(model_layers)"
   ]
  },
  {
   "cell_type": "code",
   "execution_count": 43,
   "metadata": {},
   "outputs": [],
   "source": [
    "model = keras.Model(inputs, model_layers)"
   ]
  },
  {
   "cell_type": "code",
   "execution_count": 44,
   "metadata": {},
   "outputs": [
    {
     "name": "stdout",
     "output_type": "stream",
     "text": [
      "WARNING:tensorflow:From C:\\Users\\Carlos Andres\\AppData\\Roaming\\Python\\Python311\\site-packages\\keras\\src\\optimizers\\__init__.py:309: The name tf.train.Optimizer is deprecated. Please use tf.compat.v1.train.Optimizer instead.\n",
      "\n"
     ]
    }
   ],
   "source": [
    "model.compile(optimizer='adam', loss='binary_crossentropy', metrics=['accuracy'])"
   ]
  },
  {
   "cell_type": "code",
   "execution_count": 45,
   "metadata": {},
   "outputs": [
    {
     "data": {
      "image/png": "[encoded data removed]",
      "text/plain": [
       "<IPython.core.display.Image object>"
      ]
     },
     "execution_count": 45,
     "metadata": {},
     "output_type": "execute_result"
    }
   ],
   "source": [
    "keras.utils.plot_model(model, show_shapes=True, rankdir=\"LR\")"
   ]
  },
  {
   "cell_type": "code",
   "execution_count": 46,
   "metadata": {},
   "outputs": [],
   "source": [
    "import os\n",
    "os.environ[\"KERAS_BACKEND\"] = \"tensorflow\""
   ]
  },
  {
   "cell_type": "code",
   "execution_count": 47,
   "metadata": {},
   "outputs": [
    {
     "name": "stdout",
     "output_type": "stream",
     "text": [
      "Epoch 1/50\n",
      "WARNING:tensorflow:From C:\\Users\\Carlos Andres\\AppData\\Roaming\\Python\\Python311\\site-packages\\keras\\src\\engine\\base_layer_utils.py:384: The name tf.executing_eagerly_outside_functions is deprecated. Please use tf.compat.v1.executing_eagerly_outside_functions instead.\n",
      "\n",
      "905/905 [==============================] - 3s 2ms/step - loss: 0.3555 - accuracy: 0.8807 - val_loss: 0.3336 - val_accuracy: 0.8879\n",
      "Epoch 2/50\n",
      "905/905 [==============================] - 2s 2ms/step - loss: 0.3409 - accuracy: 0.8820 - val_loss: 0.3307 - val_accuracy: 0.8880\n",
      "Epoch 3/50\n",
      "905/905 [==============================] - 2s 2ms/step - loss: 0.3393 - accuracy: 0.8820 - val_loss: 0.3293 - val_accuracy: 0.8880\n",
      "Epoch 4/50\n",
      "905/905 [==============================] - 2s 2ms/step - loss: 0.3384 - accuracy: 0.8821 - val_loss: 0.3290 - val_accuracy: 0.8873\n",
      "Epoch 5/50\n",
      "905/905 [==============================] - 2s 2ms/step - loss: 0.3378 - accuracy: 0.8822 - val_loss: 0.3289 - val_accuracy: 0.8871\n",
      "Epoch 6/50\n",
      "905/905 [==============================] - 2s 2ms/step - loss: 0.3368 - accuracy: 0.8822 - val_loss: 0.3286 - val_accuracy: 0.8875\n",
      "Epoch 7/50\n",
      "905/905 [==============================] - 2s 2ms/step - loss: 0.3365 - accuracy: 0.8819 - val_loss: 0.3303 - val_accuracy: 0.8869\n",
      "Epoch 8/50\n",
      "905/905 [==============================] - 2s 2ms/step - loss: 0.3365 - accuracy: 0.8818 - val_loss: 0.3281 - val_accuracy: 0.8876\n",
      "Epoch 9/50\n",
      "905/905 [==============================] - 2s 3ms/step - loss: 0.3359 - accuracy: 0.8818 - val_loss: 0.3290 - val_accuracy: 0.8876\n",
      "Epoch 10/50\n",
      "905/905 [==============================] - 2s 2ms/step - loss: 0.3355 - accuracy: 0.8816 - val_loss: 0.3291 - val_accuracy: 0.8871\n",
      "Epoch 11/50\n",
      "905/905 [==============================] - 2s 2ms/step - loss: 0.3351 - accuracy: 0.8812 - val_loss: 0.3299 - val_accuracy: 0.8872\n",
      "Epoch 12/50\n",
      "905/905 [==============================] - 2s 2ms/step - loss: 0.3348 - accuracy: 0.8815 - val_loss: 0.3283 - val_accuracy: 0.8873\n",
      "Epoch 13/50\n",
      "905/905 [==============================] - 2s 2ms/step - loss: 0.3350 - accuracy: 0.8819 - val_loss: 0.3292 - val_accuracy: 0.8872\n",
      "Epoch 14/50\n",
      "905/905 [==============================] - 2s 2ms/step - loss: 0.3345 - accuracy: 0.8815 - val_loss: 0.3288 - val_accuracy: 0.8868\n",
      "Epoch 15/50\n",
      "905/905 [==============================] - 2s 2ms/step - loss: 0.3343 - accuracy: 0.8816 - val_loss: 0.3284 - val_accuracy: 0.8871\n",
      "Epoch 16/50\n",
      "905/905 [==============================] - 2s 2ms/step - loss: 0.3344 - accuracy: 0.8813 - val_loss: 0.3279 - val_accuracy: 0.8871\n",
      "Epoch 17/50\n",
      "905/905 [==============================] - 2s 2ms/step - loss: 0.3342 - accuracy: 0.8813 - val_loss: 0.3288 - val_accuracy: 0.8873\n",
      "Epoch 18/50\n",
      "905/905 [==============================] - 2s 2ms/step - loss: 0.3341 - accuracy: 0.8815 - val_loss: 0.3287 - val_accuracy: 0.8869\n",
      "Epoch 19/50\n",
      "905/905 [==============================] - 2s 2ms/step - loss: 0.3337 - accuracy: 0.8815 - val_loss: 0.3301 - val_accuracy: 0.8869\n",
      "Epoch 20/50\n",
      "905/905 [==============================] - 2s 2ms/step - loss: 0.3336 - accuracy: 0.8814 - val_loss: 0.3313 - val_accuracy: 0.8878\n",
      "Epoch 21/50\n",
      "905/905 [==============================] - 2s 2ms/step - loss: 0.3334 - accuracy: 0.8811 - val_loss: 0.3296 - val_accuracy: 0.8871\n",
      "Epoch 22/50\n",
      "905/905 [==============================] - 2s 2ms/step - loss: 0.3335 - accuracy: 0.8812 - val_loss: 0.3288 - val_accuracy: 0.8873\n",
      "Epoch 23/50\n",
      "905/905 [==============================] - 2s 2ms/step - loss: 0.3332 - accuracy: 0.8815 - val_loss: 0.3303 - val_accuracy: 0.8868\n",
      "Epoch 24/50\n",
      "905/905 [==============================] - 2s 2ms/step - loss: 0.3333 - accuracy: 0.8814 - val_loss: 0.3293 - val_accuracy: 0.8873\n",
      "Epoch 25/50\n",
      "905/905 [==============================] - 2s 2ms/step - loss: 0.3327 - accuracy: 0.8818 - val_loss: 0.3287 - val_accuracy: 0.8869\n",
      "Epoch 26/50\n",
      "905/905 [==============================] - 2s 2ms/step - loss: 0.3330 - accuracy: 0.8814 - val_loss: 0.3282 - val_accuracy: 0.8871\n",
      "Epoch 27/50\n",
      "905/905 [==============================] - 2s 2ms/step - loss: 0.3326 - accuracy: 0.8812 - val_loss: 0.3293 - val_accuracy: 0.8875\n",
      "Epoch 28/50\n",
      "905/905 [==============================] - 2s 3ms/step - loss: 0.3325 - accuracy: 0.8807 - val_loss: 0.3281 - val_accuracy: 0.8873\n",
      "Epoch 29/50\n",
      "905/905 [==============================] - 2s 3ms/step - loss: 0.3328 - accuracy: 0.8814 - val_loss: 0.3295 - val_accuracy: 0.8873\n",
      "Epoch 30/50\n",
      "905/905 [==============================] - 2s 3ms/step - loss: 0.3323 - accuracy: 0.8814 - val_loss: 0.3299 - val_accuracy: 0.8871\n",
      "Epoch 31/50\n",
      "905/905 [==============================] - 2s 3ms/step - loss: 0.3324 - accuracy: 0.8813 - val_loss: 0.3287 - val_accuracy: 0.8871\n",
      "Epoch 32/50\n",
      "905/905 [==============================] - 3s 3ms/step - loss: 0.3321 - accuracy: 0.8813 - val_loss: 0.3305 - val_accuracy: 0.8882\n",
      "Epoch 33/50\n",
      "905/905 [==============================] - 3s 3ms/step - loss: 0.3326 - accuracy: 0.8818 - val_loss: 0.3292 - val_accuracy: 0.8873\n",
      "Epoch 34/50\n",
      "905/905 [==============================] - 2s 3ms/step - loss: 0.3322 - accuracy: 0.8812 - val_loss: 0.3288 - val_accuracy: 0.8876\n",
      "Epoch 35/50\n",
      "905/905 [==============================] - 2s 3ms/step - loss: 0.3321 - accuracy: 0.8816 - val_loss: 0.3283 - val_accuracy: 0.8868\n",
      "Epoch 36/50\n",
      "905/905 [==============================] - 2s 3ms/step - loss: 0.3319 - accuracy: 0.8809 - val_loss: 0.3285 - val_accuracy: 0.8871\n",
      "Epoch 37/50\n",
      "905/905 [==============================] - 3s 3ms/step - loss: 0.3320 - accuracy: 0.8817 - val_loss: 0.3312 - val_accuracy: 0.8869\n",
      "Epoch 38/50\n",
      "905/905 [==============================] - 3s 3ms/step - loss: 0.3320 - accuracy: 0.8816 - val_loss: 0.3283 - val_accuracy: 0.8872\n",
      "Epoch 39/50\n",
      "905/905 [==============================] - 3s 3ms/step - loss: 0.3317 - accuracy: 0.8814 - val_loss: 0.3295 - val_accuracy: 0.8868\n",
      "Epoch 40/50\n",
      "905/905 [==============================] - 3s 3ms/step - loss: 0.3316 - accuracy: 0.8813 - val_loss: 0.3298 - val_accuracy: 0.8878\n",
      "Epoch 41/50\n",
      "905/905 [==============================] - 2s 3ms/step - loss: 0.3317 - accuracy: 0.8816 - val_loss: 0.3292 - val_accuracy: 0.8873\n",
      "Epoch 42/50\n",
      "905/905 [==============================] - 3s 3ms/step - loss: 0.3316 - accuracy: 0.8811 - val_loss: 0.3288 - val_accuracy: 0.8869\n",
      "Epoch 43/50\n",
      "905/905 [==============================] - 3s 4ms/step - loss: 0.3316 - accuracy: 0.8811 - val_loss: 0.3306 - val_accuracy: 0.8866\n",
      "Epoch 44/50\n",
      "905/905 [==============================] - 3s 3ms/step - loss: 0.3314 - accuracy: 0.8817 - val_loss: 0.3286 - val_accuracy: 0.8864\n",
      "Epoch 45/50\n",
      "905/905 [==============================] - 2s 2ms/step - loss: 0.3316 - accuracy: 0.8815 - val_loss: 0.3290 - val_accuracy: 0.8868\n",
      "Epoch 46/50\n",
      "905/905 [==============================] - 2s 2ms/step - loss: 0.3313 - accuracy: 0.8813 - val_loss: 0.3299 - val_accuracy: 0.8862\n",
      "Epoch 47/50\n",
      "905/905 [==============================] - 2s 2ms/step - loss: 0.3312 - accuracy: 0.8812 - val_loss: 0.3285 - val_accuracy: 0.8869\n",
      "Epoch 48/50\n",
      "905/905 [==============================] - 2s 2ms/step - loss: 0.3312 - accuracy: 0.8817 - val_loss: 0.3276 - val_accuracy: 0.8872\n",
      "Epoch 49/50\n",
      "905/905 [==============================] - 2s 2ms/step - loss: 0.3311 - accuracy: 0.8811 - val_loss: 0.3282 - val_accuracy: 0.8871\n",
      "Epoch 50/50\n",
      "905/905 [==============================] - 2s 2ms/step - loss: 0.3312 - accuracy: 0.8816 - val_loss: 0.3289 - val_accuracy: 0.8868\n"
     ]
    },
    {
     "data": {
      "text/plain": [
       "<keras.src.callbacks.History at 0x21de2d93650>"
      ]
     },
     "execution_count": 47,
     "metadata": {},
     "output_type": "execute_result"
    }
   ],
   "source": [
    "model.fit(train_ds, epochs=50, validation_data=val_ds)"
   ]
  },
  {
   "cell_type": "code",
   "execution_count": 48,
   "metadata": {},
   "outputs": [
    {
     "name": "stdout",
     "output_type": "stream",
     "text": [
      "Epoch 1/50\n",
      "905/905 [==============================] - 2s 2ms/step - loss: 0.3311 - accuracy: 0.8815 - val_loss: 0.3287 - val_accuracy: 0.8869\n",
      "Epoch 2/50\n",
      "905/905 [==============================] - 2s 2ms/step - loss: 0.3311 - accuracy: 0.8809 - val_loss: 0.3296 - val_accuracy: 0.8872\n",
      "Epoch 3/50\n",
      "905/905 [==============================] - 2s 2ms/step - loss: 0.3309 - accuracy: 0.8812 - val_loss: 0.3294 - val_accuracy: 0.8868\n",
      "Epoch 4/50\n",
      "905/905 [==============================] - 2s 2ms/step - loss: 0.3306 - accuracy: 0.8814 - val_loss: 0.3280 - val_accuracy: 0.8869\n",
      "Epoch 5/50\n",
      "905/905 [==============================] - 2s 3ms/step - loss: 0.3309 - accuracy: 0.8812 - val_loss: 0.3302 - val_accuracy: 0.8872\n",
      "Epoch 6/50\n",
      "905/905 [==============================] - 3s 3ms/step - loss: 0.3311 - accuracy: 0.8811 - val_loss: 0.3288 - val_accuracy: 0.8871\n",
      "Epoch 7/50\n",
      "905/905 [==============================] - 3s 3ms/step - loss: 0.3306 - accuracy: 0.8814 - val_loss: 0.3294 - val_accuracy: 0.8878\n",
      "Epoch 8/50\n",
      "905/905 [==============================] - 2s 3ms/step - loss: 0.3305 - accuracy: 0.8812 - val_loss: 0.3279 - val_accuracy: 0.8868\n",
      "Epoch 9/50\n",
      "905/905 [==============================] - 3s 3ms/step - loss: 0.3301 - accuracy: 0.8816 - val_loss: 0.3298 - val_accuracy: 0.8864\n",
      "Epoch 10/50\n",
      "905/905 [==============================] - 3s 3ms/step - loss: 0.3304 - accuracy: 0.8812 - val_loss: 0.3288 - val_accuracy: 0.8876\n",
      "Epoch 11/50\n",
      "905/905 [==============================] - 3s 3ms/step - loss: 0.3301 - accuracy: 0.8816 - val_loss: 0.3303 - val_accuracy: 0.8860\n",
      "Epoch 12/50\n",
      "905/905 [==============================] - 3s 3ms/step - loss: 0.3306 - accuracy: 0.8811 - val_loss: 0.3305 - val_accuracy: 0.8864\n",
      "Epoch 13/50\n",
      "905/905 [==============================] - 3s 3ms/step - loss: 0.3304 - accuracy: 0.8813 - val_loss: 0.3303 - val_accuracy: 0.8866\n",
      "Epoch 14/50\n",
      "905/905 [==============================] - 2s 3ms/step - loss: 0.3302 - accuracy: 0.8817 - val_loss: 0.3290 - val_accuracy: 0.8875\n",
      "Epoch 15/50\n",
      "905/905 [==============================] - 2s 3ms/step - loss: 0.3304 - accuracy: 0.8814 - val_loss: 0.3282 - val_accuracy: 0.8872\n",
      "Epoch 16/50\n",
      "905/905 [==============================] - 2s 3ms/step - loss: 0.3301 - accuracy: 0.8811 - val_loss: 0.3295 - val_accuracy: 0.8871\n",
      "Epoch 17/50\n",
      "905/905 [==============================] - 3s 3ms/step - loss: 0.3304 - accuracy: 0.8815 - val_loss: 0.3290 - val_accuracy: 0.8871\n",
      "Epoch 18/50\n",
      "905/905 [==============================] - 2s 3ms/step - loss: 0.3298 - accuracy: 0.8814 - val_loss: 0.3300 - val_accuracy: 0.8873\n",
      "Epoch 19/50\n",
      "905/905 [==============================] - 2s 3ms/step - loss: 0.3300 - accuracy: 0.8814 - val_loss: 0.3293 - val_accuracy: 0.8869\n",
      "Epoch 20/50\n",
      "905/905 [==============================] - 2s 2ms/step - loss: 0.3300 - accuracy: 0.8817 - val_loss: 0.3290 - val_accuracy: 0.8868\n",
      "Epoch 21/50\n",
      "905/905 [==============================] - 2s 2ms/step - loss: 0.3300 - accuracy: 0.8812 - val_loss: 0.3288 - val_accuracy: 0.8871\n",
      "Epoch 22/50\n",
      "905/905 [==============================] - 2s 2ms/step - loss: 0.3297 - accuracy: 0.8813 - val_loss: 0.3280 - val_accuracy: 0.8873\n",
      "Epoch 23/50\n",
      "905/905 [==============================] - 2s 2ms/step - loss: 0.3297 - accuracy: 0.8815 - val_loss: 0.3301 - val_accuracy: 0.8875\n",
      "Epoch 24/50\n",
      "905/905 [==============================] - 2s 2ms/step - loss: 0.3296 - accuracy: 0.8813 - val_loss: 0.3325 - val_accuracy: 0.8855\n",
      "Epoch 25/50\n",
      "905/905 [==============================] - 2s 2ms/step - loss: 0.3297 - accuracy: 0.8815 - val_loss: 0.3324 - val_accuracy: 0.8850\n",
      "Epoch 26/50\n",
      "905/905 [==============================] - 2s 2ms/step - loss: 0.3297 - accuracy: 0.8809 - val_loss: 0.3290 - val_accuracy: 0.8873\n",
      "Epoch 27/50\n",
      "905/905 [==============================] - 2s 2ms/step - loss: 0.3294 - accuracy: 0.8814 - val_loss: 0.3285 - val_accuracy: 0.8868\n",
      "Epoch 28/50\n",
      "905/905 [==============================] - 3s 3ms/step - loss: 0.3294 - accuracy: 0.8820 - val_loss: 0.3292 - val_accuracy: 0.8871\n",
      "Epoch 29/50\n",
      "905/905 [==============================] - 2s 3ms/step - loss: 0.3295 - accuracy: 0.8813 - val_loss: 0.3293 - val_accuracy: 0.8873\n",
      "Epoch 30/50\n",
      "905/905 [==============================] - 2s 3ms/step - loss: 0.3294 - accuracy: 0.8813 - val_loss: 0.3297 - val_accuracy: 0.8873\n",
      "Epoch 31/50\n",
      "905/905 [==============================] - 2s 2ms/step - loss: 0.3295 - accuracy: 0.8811 - val_loss: 0.3303 - val_accuracy: 0.8866\n",
      "Epoch 32/50\n",
      "905/905 [==============================] - 2s 2ms/step - loss: 0.3293 - accuracy: 0.8815 - val_loss: 0.3289 - val_accuracy: 0.8871\n",
      "Epoch 33/50\n",
      "905/905 [==============================] - 2s 2ms/step - loss: 0.3292 - accuracy: 0.8818 - val_loss: 0.3298 - val_accuracy: 0.8864\n",
      "Epoch 34/50\n",
      "905/905 [==============================] - 2s 2ms/step - loss: 0.3293 - accuracy: 0.8817 - val_loss: 0.3290 - val_accuracy: 0.8875\n",
      "Epoch 35/50\n",
      "905/905 [==============================] - 2s 2ms/step - loss: 0.3290 - accuracy: 0.8817 - val_loss: 0.3312 - val_accuracy: 0.8862\n",
      "Epoch 36/50\n",
      "905/905 [==============================] - 2s 3ms/step - loss: 0.3293 - accuracy: 0.8816 - val_loss: 0.3299 - val_accuracy: 0.8865\n",
      "Epoch 37/50\n",
      "905/905 [==============================] - 2s 2ms/step - loss: 0.3291 - accuracy: 0.8812 - val_loss: 0.3287 - val_accuracy: 0.8868\n",
      "Epoch 38/50\n",
      "905/905 [==============================] - 2s 3ms/step - loss: 0.3292 - accuracy: 0.8814 - val_loss: 0.3286 - val_accuracy: 0.8869\n",
      "Epoch 39/50\n",
      "905/905 [==============================] - 2s 3ms/step - loss: 0.3290 - accuracy: 0.8814 - val_loss: 0.3304 - val_accuracy: 0.8872\n",
      "Epoch 40/50\n",
      "905/905 [==============================] - 2s 3ms/step - loss: 0.3289 - accuracy: 0.8809 - val_loss: 0.3298 - val_accuracy: 0.8866\n",
      "Epoch 41/50\n",
      "905/905 [==============================] - 3s 3ms/step - loss: 0.3289 - accuracy: 0.8813 - val_loss: 0.3296 - val_accuracy: 0.8871\n",
      "Epoch 42/50\n",
      "905/905 [==============================] - 2s 3ms/step - loss: 0.3288 - accuracy: 0.8819 - val_loss: 0.3311 - val_accuracy: 0.8853\n",
      "Epoch 43/50\n",
      "905/905 [==============================] - 2s 2ms/step - loss: 0.3286 - accuracy: 0.8814 - val_loss: 0.3302 - val_accuracy: 0.8868\n",
      "Epoch 44/50\n",
      "905/905 [==============================] - 2s 2ms/step - loss: 0.3286 - accuracy: 0.8817 - val_loss: 0.3308 - val_accuracy: 0.8858\n",
      "Epoch 45/50\n",
      "905/905 [==============================] - 2s 2ms/step - loss: 0.3290 - accuracy: 0.8815 - val_loss: 0.3293 - val_accuracy: 0.8871\n",
      "Epoch 46/50\n",
      "905/905 [==============================] - 3s 3ms/step - loss: 0.3286 - accuracy: 0.8814 - val_loss: 0.3295 - val_accuracy: 0.8871\n",
      "Epoch 47/50\n",
      "905/905 [==============================] - 2s 2ms/step - loss: 0.3286 - accuracy: 0.8818 - val_loss: 0.3291 - val_accuracy: 0.8875\n",
      "Epoch 48/50\n",
      "905/905 [==============================] - 2s 2ms/step - loss: 0.3288 - accuracy: 0.8816 - val_loss: 0.3291 - val_accuracy: 0.8866\n",
      "Epoch 49/50\n",
      "905/905 [==============================] - 2s 2ms/step - loss: 0.3287 - accuracy: 0.8819 - val_loss: 0.3293 - val_accuracy: 0.8876\n",
      "Epoch 50/50\n",
      "905/905 [==============================] - 2s 2ms/step - loss: 0.3283 - accuracy: 0.8819 - val_loss: 0.3296 - val_accuracy: 0.8871\n"
     ]
    },
    {
     "data": {
      "image/png": "[encoded data removed]",
      "text/plain": [
       "<Figure size 1200x500 with 2 Axes>"
      ]
     },
     "metadata": {},
     "output_type": "display_data"
    }
   ],
   "source": [
    "import matplotlib.pyplot as plt\n",
    "\n",
    "# Suponiendo que has guardado el historial del entrenamiento\n",
    "history = model.fit(train_ds, epochs=50, validation_data=val_ds)\n",
    "\n",
    "# Graficar pérdida (loss)\n",
    "plt.figure(figsize=(12, 5))\n",
    "\n",
    "plt.subplot(1, 2, 1)\n",
    "plt.plot(history.history['loss'], label='Pérdida de entrenamiento')\n",
    "plt.plot(history.history['val_loss'], label='Pérdida de validación')\n",
    "plt.title('Pérdida durante el entrenamiento')\n",
    "plt.xlabel('Épocas')\n",
    "plt.ylabel('Pérdida')\n",
    "plt.legend()\n",
    "\n",
    "# Graficar precisión (accuracy)\n",
    "plt.subplot(1, 2, 2)\n",
    "plt.plot(history.history['accuracy'], label='Precisión de entrenamiento')\n",
    "plt.plot(history.history['val_accuracy'], label='Precisión de validación')\n",
    "plt.title('Precisión durante el entrenamiento')\n",
    "plt.xlabel('Épocas')\n",
    "plt.ylabel('Precisión')\n",
    "plt.legend()\n",
    "\n",
    "plt.tight_layout()\n",
    "plt.show()"
   ]
  },
  {
   "cell_type": "markdown",
   "metadata": {},
   "source": [
    "Ejemplo de Prediccion"
   ]
  },
  {
   "cell_type": "code",
   "execution_count": 49,
   "metadata": {},
   "outputs": [],
   "source": [
    "# Suponiendo que estos son los nuevos datos (df_new), deben tener las mismas columnas que tus datos de entrenamiento\n",
    "data_nueva = {\n",
    "    'housing': [1, 0],        # Ejemplo de nuevos clientes (1 tiene housing, 0 no tiene housing)\n",
    "    'loan': [0, 1],           # Si tienen o no un préstamo\n",
    "    'job': ['blue-collar', 'technician'],   # Profesión\n",
    "    'marital': ['married', 'single'],       # Estado civil\n",
    "    'education': ['secondary', 'tertiary'], # Nivel educativo\n",
    "    'age': [40, 30],          # Edad de las personas\n",
    "    'balance': [1200, 500],\n",
    "    'y': [0,0]   # nos inventamos cualquier valor de y para que funcione el codigo anterior sin influir la prediccion\n",
    "}\n"
   ]
  },
  {
   "cell_type": "code",
   "execution_count": 50,
   "metadata": {},
   "outputs": [],
   "source": [
    "def predecir(p_housing, p_loan, p_job,p_marital, p_education,p_age, p_balance):\n",
    "    \n",
    "    data_nueva = {\n",
    "    'housing': [p_housing],        # Ejemplo de nuevos clientes (1 tiene housing, 0 no tiene housing)\n",
    "    'loan': [p_loan],           # Si tienen o no un préstamo\n",
    "    'job': [p_job],   # Profesión\n",
    "    'marital': [p_marital],       # Estado civil\n",
    "    'education': [p_education], # Nivel educativo\n",
    "    'age': [p_age],          # Edad de las personas\n",
    "    'balance': [p_balance],\n",
    "    'y': [0]   # nos inventamos cualquier valor de y para que funcione el codigo anterior sin influir la prediccion\n",
    "    }\n",
    "    \n",
    "    \n",
    "    df_new = pd.DataFrame(data_nueva)\n",
    "\n",
    "    prueba_ds = dataframe_to_dataset(df_new)\n",
    "\n",
    "    prueba_ds = prueba_ds.batch(batch_size)\n",
    "\n",
    "    predicciones = model.predict(prueba_ds)\n",
    "    \n",
    "    return predicciones"
   ]
  },
  {
   "cell_type": "code",
   "execution_count": 51,
   "metadata": {},
   "outputs": [
    {
     "name": "stdout",
     "output_type": "stream",
     "text": [
      "1/1 [==============================] - 0s 181ms/step\n",
      "[[0.04670686]]\n"
     ]
    }
   ],
   "source": [
    "print(predecir(1,1,'technician','single','secondary',40,1200))"
   ]
  }
 ],
 "metadata": {
  "kernelspec": {
   "display_name": "Python 3",
   "language": "python",
   "name": "python3"
  },
  "language_info": {
   "codemirror_mode": {
    "name": "ipython",
    "version": 3
   },
   "file_extension": ".py",
   "mimetype": "text/x-python",
   "name": "python",
   "nbconvert_exporter": "python",
   "pygments_lexer": "ipython3",
   "version": "3.11.0"
  }
 },
 "nbformat": 4,
 "nbformat_minor": 2
}
