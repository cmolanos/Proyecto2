{
 "cells": [
  {
   "cell_type": "markdown",
   "metadata": {},
   "source": [
    "Modelo 2\n",
    "\n",
    "¿Cuál es el canal de contacto más efectivo para maximizar la conversión de ventas? \n",
    "\n",
    "Features:\n",
    "\n",
    "9 - contact: contact communication type (categorical: \"unknown\",\"telephone\",\"cellular\") \n",
    "10 - day: last contact day of the month (numeric)\n",
    "11 - month: last contact month of year (categorical: \"jan\", \"feb\", \"mar\", ..., \"nov\", \"dec\")\n",
    "12 - duration: last contact duration, in seconds (numeric)\n",
    "13 - campaign: number of contacts performed during this campaign and for this client (numeric, includes last contact)\n",
    "14 - poutcome: outcome of the previous marketing campaign (categorical: \"unknown\",\"other\",\"failure\",\"success\")\n",
    "\n",
    "\n",
    "Variable Objetivo:\n",
    "\n",
    "y - has the client subscribed a term deposit? (binary: \"yes\",\"no\")"
   ]
  },
  {
   "cell_type": "code",
   "execution_count": 54,
   "metadata": {},
   "outputs": [],
   "source": [
    "import numpy as np\n",
    "import pandas as pd\n",
    "import tensorflow as tf\n",
    "import keras"
   ]
  },
  {
   "cell_type": "code",
   "execution_count": 55,
   "metadata": {},
   "outputs": [
    {
     "name": "stdout",
     "output_type": "stream",
     "text": [
      "   age           job  marital  education  balance  housing  loan  contact  \\\n",
      "0   58    management  married   tertiary     2143        1     0  unknown   \n",
      "1   44    technician   single  secondary       29        1     0  unknown   \n",
      "2   33  entrepreneur  married  secondary        2        1     1  unknown   \n",
      "3   47   blue-collar  married    unknown     1506        1     0  unknown   \n",
      "4   33       unknown   single    unknown        1        0     0  unknown   \n",
      "\n",
      "   day month  duration  campaign  pdays poutcome  y  \n",
      "0    5   may       261         1     -1  unknown  0  \n",
      "1    5   may       151         1     -1  unknown  0  \n",
      "2    5   may        76         1     -1  unknown  0  \n",
      "3    5   may        92         1     -1  unknown  0  \n",
      "4    5   may       198         1     -1  unknown  0  \n"
     ]
    }
   ],
   "source": [
    "file_path = r'C:\\Users\\Carlos Andres\\Desktop\\Proyecto2\\Modelamiento\\Bank.csv'\n",
    "\n",
    "# Leer el archivo CSV con el delimitador \";\"\n",
    "df = pd.read_csv(file_path, delimiter=',')\n",
    "\n",
    "# Mostrar las primeras filas para verificar que se haya cargado correctamente\n",
    "print(df.head())\n"
   ]
  },
  {
   "cell_type": "code",
   "execution_count": 56,
   "metadata": {},
   "outputs": [
    {
     "data": {
      "text/html": [
       "<div>\n",
       "<style scoped>\n",
       "    .dataframe tbody tr th:only-of-type {\n",
       "        vertical-align: middle;\n",
       "    }\n",
       "\n",
       "    .dataframe tbody tr th {\n",
       "        vertical-align: top;\n",
       "    }\n",
       "\n",
       "    .dataframe thead th {\n",
       "        text-align: right;\n",
       "    }\n",
       "</style>\n",
       "<table border=\"1\" class=\"dataframe\">\n",
       "  <thead>\n",
       "    <tr style=\"text-align: right;\">\n",
       "      <th></th>\n",
       "      <th>age</th>\n",
       "      <th>job</th>\n",
       "      <th>marital</th>\n",
       "      <th>education</th>\n",
       "      <th>balance</th>\n",
       "      <th>housing</th>\n",
       "      <th>loan</th>\n",
       "      <th>contact</th>\n",
       "      <th>day</th>\n",
       "      <th>month</th>\n",
       "      <th>duration</th>\n",
       "      <th>campaign</th>\n",
       "      <th>pdays</th>\n",
       "      <th>poutcome</th>\n",
       "      <th>y</th>\n",
       "    </tr>\n",
       "  </thead>\n",
       "  <tbody>\n",
       "    <tr>\n",
       "      <th>0</th>\n",
       "      <td>58</td>\n",
       "      <td>management</td>\n",
       "      <td>married</td>\n",
       "      <td>tertiary</td>\n",
       "      <td>2143</td>\n",
       "      <td>1</td>\n",
       "      <td>0</td>\n",
       "      <td>unknown</td>\n",
       "      <td>5</td>\n",
       "      <td>may</td>\n",
       "      <td>261</td>\n",
       "      <td>1</td>\n",
       "      <td>-1</td>\n",
       "      <td>unknown</td>\n",
       "      <td>0</td>\n",
       "    </tr>\n",
       "    <tr>\n",
       "      <th>1</th>\n",
       "      <td>44</td>\n",
       "      <td>technician</td>\n",
       "      <td>single</td>\n",
       "      <td>secondary</td>\n",
       "      <td>29</td>\n",
       "      <td>1</td>\n",
       "      <td>0</td>\n",
       "      <td>unknown</td>\n",
       "      <td>5</td>\n",
       "      <td>may</td>\n",
       "      <td>151</td>\n",
       "      <td>1</td>\n",
       "      <td>-1</td>\n",
       "      <td>unknown</td>\n",
       "      <td>0</td>\n",
       "    </tr>\n",
       "    <tr>\n",
       "      <th>2</th>\n",
       "      <td>33</td>\n",
       "      <td>entrepreneur</td>\n",
       "      <td>married</td>\n",
       "      <td>secondary</td>\n",
       "      <td>2</td>\n",
       "      <td>1</td>\n",
       "      <td>1</td>\n",
       "      <td>unknown</td>\n",
       "      <td>5</td>\n",
       "      <td>may</td>\n",
       "      <td>76</td>\n",
       "      <td>1</td>\n",
       "      <td>-1</td>\n",
       "      <td>unknown</td>\n",
       "      <td>0</td>\n",
       "    </tr>\n",
       "    <tr>\n",
       "      <th>3</th>\n",
       "      <td>47</td>\n",
       "      <td>blue-collar</td>\n",
       "      <td>married</td>\n",
       "      <td>unknown</td>\n",
       "      <td>1506</td>\n",
       "      <td>1</td>\n",
       "      <td>0</td>\n",
       "      <td>unknown</td>\n",
       "      <td>5</td>\n",
       "      <td>may</td>\n",
       "      <td>92</td>\n",
       "      <td>1</td>\n",
       "      <td>-1</td>\n",
       "      <td>unknown</td>\n",
       "      <td>0</td>\n",
       "    </tr>\n",
       "    <tr>\n",
       "      <th>4</th>\n",
       "      <td>33</td>\n",
       "      <td>unknown</td>\n",
       "      <td>single</td>\n",
       "      <td>unknown</td>\n",
       "      <td>1</td>\n",
       "      <td>0</td>\n",
       "      <td>0</td>\n",
       "      <td>unknown</td>\n",
       "      <td>5</td>\n",
       "      <td>may</td>\n",
       "      <td>198</td>\n",
       "      <td>1</td>\n",
       "      <td>-1</td>\n",
       "      <td>unknown</td>\n",
       "      <td>0</td>\n",
       "    </tr>\n",
       "  </tbody>\n",
       "</table>\n",
       "</div>"
      ],
      "text/plain": [
       "   age           job  marital  education  balance  housing  loan  contact  \\\n",
       "0   58    management  married   tertiary     2143        1     0  unknown   \n",
       "1   44    technician   single  secondary       29        1     0  unknown   \n",
       "2   33  entrepreneur  married  secondary        2        1     1  unknown   \n",
       "3   47   blue-collar  married    unknown     1506        1     0  unknown   \n",
       "4   33       unknown   single    unknown        1        0     0  unknown   \n",
       "\n",
       "   day month  duration  campaign  pdays poutcome  y  \n",
       "0    5   may       261         1     -1  unknown  0  \n",
       "1    5   may       151         1     -1  unknown  0  \n",
       "2    5   may        76         1     -1  unknown  0  \n",
       "3    5   may        92         1     -1  unknown  0  \n",
       "4    5   may       198         1     -1  unknown  0  "
      ]
     },
     "execution_count": 56,
     "metadata": {},
     "output_type": "execute_result"
    }
   ],
   "source": [
    "df.head()"
   ]
  },
  {
   "cell_type": "code",
   "execution_count": 57,
   "metadata": {},
   "outputs": [],
   "source": [
    "cat_int_feats = [ ]"
   ]
  },
  {
   "cell_type": "code",
   "execution_count": 58,
   "metadata": {},
   "outputs": [],
   "source": [
    "cat_str_feats = ['contact', 'poutcome', 'month']"
   ]
  },
  {
   "cell_type": "code",
   "execution_count": 59,
   "metadata": {},
   "outputs": [],
   "source": [
    "num_feats = ['duration','campaign','day','pdays']"
   ]
  },
  {
   "cell_type": "code",
   "execution_count": 60,
   "metadata": {},
   "outputs": [],
   "source": [
    "feats_ordered = cat_int_feats+cat_str_feats+num_feats"
   ]
  },
  {
   "cell_type": "code",
   "execution_count": 61,
   "metadata": {},
   "outputs": [],
   "source": [
    "df = df[feats_ordered+['y']]"
   ]
  },
  {
   "cell_type": "code",
   "execution_count": 62,
   "metadata": {},
   "outputs": [
    {
     "data": {
      "text/html": [
       "<div>\n",
       "<style scoped>\n",
       "    .dataframe tbody tr th:only-of-type {\n",
       "        vertical-align: middle;\n",
       "    }\n",
       "\n",
       "    .dataframe tbody tr th {\n",
       "        vertical-align: top;\n",
       "    }\n",
       "\n",
       "    .dataframe thead th {\n",
       "        text-align: right;\n",
       "    }\n",
       "</style>\n",
       "<table border=\"1\" class=\"dataframe\">\n",
       "  <thead>\n",
       "    <tr style=\"text-align: right;\">\n",
       "      <th></th>\n",
       "      <th>contact</th>\n",
       "      <th>poutcome</th>\n",
       "      <th>month</th>\n",
       "      <th>duration</th>\n",
       "      <th>campaign</th>\n",
       "      <th>day</th>\n",
       "      <th>pdays</th>\n",
       "      <th>y</th>\n",
       "    </tr>\n",
       "  </thead>\n",
       "  <tbody>\n",
       "    <tr>\n",
       "      <th>0</th>\n",
       "      <td>unknown</td>\n",
       "      <td>unknown</td>\n",
       "      <td>may</td>\n",
       "      <td>261</td>\n",
       "      <td>1</td>\n",
       "      <td>5</td>\n",
       "      <td>-1</td>\n",
       "      <td>0</td>\n",
       "    </tr>\n",
       "    <tr>\n",
       "      <th>1</th>\n",
       "      <td>unknown</td>\n",
       "      <td>unknown</td>\n",
       "      <td>may</td>\n",
       "      <td>151</td>\n",
       "      <td>1</td>\n",
       "      <td>5</td>\n",
       "      <td>-1</td>\n",
       "      <td>0</td>\n",
       "    </tr>\n",
       "    <tr>\n",
       "      <th>2</th>\n",
       "      <td>unknown</td>\n",
       "      <td>unknown</td>\n",
       "      <td>may</td>\n",
       "      <td>76</td>\n",
       "      <td>1</td>\n",
       "      <td>5</td>\n",
       "      <td>-1</td>\n",
       "      <td>0</td>\n",
       "    </tr>\n",
       "    <tr>\n",
       "      <th>3</th>\n",
       "      <td>unknown</td>\n",
       "      <td>unknown</td>\n",
       "      <td>may</td>\n",
       "      <td>92</td>\n",
       "      <td>1</td>\n",
       "      <td>5</td>\n",
       "      <td>-1</td>\n",
       "      <td>0</td>\n",
       "    </tr>\n",
       "    <tr>\n",
       "      <th>4</th>\n",
       "      <td>unknown</td>\n",
       "      <td>unknown</td>\n",
       "      <td>may</td>\n",
       "      <td>198</td>\n",
       "      <td>1</td>\n",
       "      <td>5</td>\n",
       "      <td>-1</td>\n",
       "      <td>0</td>\n",
       "    </tr>\n",
       "  </tbody>\n",
       "</table>\n",
       "</div>"
      ],
      "text/plain": [
       "   contact poutcome month  duration  campaign  day  pdays  y\n",
       "0  unknown  unknown   may       261         1    5     -1  0\n",
       "1  unknown  unknown   may       151         1    5     -1  0\n",
       "2  unknown  unknown   may        76         1    5     -1  0\n",
       "3  unknown  unknown   may        92         1    5     -1  0\n",
       "4  unknown  unknown   may       198         1    5     -1  0"
      ]
     },
     "execution_count": 62,
     "metadata": {},
     "output_type": "execute_result"
    }
   ],
   "source": [
    "df.head()"
   ]
  },
  {
   "cell_type": "code",
   "execution_count": 63,
   "metadata": {},
   "outputs": [
    {
     "data": {
      "text/html": [
       "<div>\n",
       "<style scoped>\n",
       "    .dataframe tbody tr th:only-of-type {\n",
       "        vertical-align: middle;\n",
       "    }\n",
       "\n",
       "    .dataframe tbody tr th {\n",
       "        vertical-align: top;\n",
       "    }\n",
       "\n",
       "    .dataframe thead th {\n",
       "        text-align: right;\n",
       "    }\n",
       "</style>\n",
       "<table border=\"1\" class=\"dataframe\">\n",
       "  <thead>\n",
       "    <tr style=\"text-align: right;\">\n",
       "      <th></th>\n",
       "      <th>contact</th>\n",
       "      <th>poutcome</th>\n",
       "      <th>month</th>\n",
       "      <th>duration</th>\n",
       "      <th>campaign</th>\n",
       "      <th>day</th>\n",
       "      <th>pdays</th>\n",
       "      <th>y</th>\n",
       "    </tr>\n",
       "  </thead>\n",
       "  <tbody>\n",
       "    <tr>\n",
       "      <th>14789</th>\n",
       "      <td>cellular</td>\n",
       "      <td>unknown</td>\n",
       "      <td>jul</td>\n",
       "      <td>154</td>\n",
       "      <td>2</td>\n",
       "      <td>16</td>\n",
       "      <td>-1</td>\n",
       "      <td>0</td>\n",
       "    </tr>\n",
       "    <tr>\n",
       "      <th>8968</th>\n",
       "      <td>unknown</td>\n",
       "      <td>unknown</td>\n",
       "      <td>jun</td>\n",
       "      <td>178</td>\n",
       "      <td>1</td>\n",
       "      <td>5</td>\n",
       "      <td>-1</td>\n",
       "      <td>0</td>\n",
       "    </tr>\n",
       "    <tr>\n",
       "      <th>34685</th>\n",
       "      <td>cellular</td>\n",
       "      <td>unknown</td>\n",
       "      <td>may</td>\n",
       "      <td>67</td>\n",
       "      <td>4</td>\n",
       "      <td>5</td>\n",
       "      <td>-1</td>\n",
       "      <td>0</td>\n",
       "    </tr>\n",
       "    <tr>\n",
       "      <th>2369</th>\n",
       "      <td>unknown</td>\n",
       "      <td>unknown</td>\n",
       "      <td>may</td>\n",
       "      <td>203</td>\n",
       "      <td>1</td>\n",
       "      <td>13</td>\n",
       "      <td>-1</td>\n",
       "      <td>0</td>\n",
       "    </tr>\n",
       "    <tr>\n",
       "      <th>36561</th>\n",
       "      <td>cellular</td>\n",
       "      <td>success</td>\n",
       "      <td>may</td>\n",
       "      <td>631</td>\n",
       "      <td>1</td>\n",
       "      <td>12</td>\n",
       "      <td>344</td>\n",
       "      <td>0</td>\n",
       "    </tr>\n",
       "  </tbody>\n",
       "</table>\n",
       "</div>"
      ],
      "text/plain": [
       "        contact poutcome month  duration  campaign  day  pdays  y\n",
       "14789  cellular  unknown   jul       154         2   16     -1  0\n",
       "8968    unknown  unknown   jun       178         1    5     -1  0\n",
       "34685  cellular  unknown   may        67         4    5     -1  0\n",
       "2369    unknown  unknown   may       203         1   13     -1  0\n",
       "36561  cellular  success   may       631         1   12    344  0"
      ]
     },
     "execution_count": 63,
     "metadata": {},
     "output_type": "execute_result"
    }
   ],
   "source": [
    "train = df.sample(frac=0.7, random_state=100)\n",
    "train.head()"
   ]
  },
  {
   "cell_type": "code",
   "execution_count": 64,
   "metadata": {},
   "outputs": [
    {
     "data": {
      "text/plain": [
       "(31648, 8)"
      ]
     },
     "execution_count": 64,
     "metadata": {},
     "output_type": "execute_result"
    }
   ],
   "source": [
    "train.shape"
   ]
  },
  {
   "cell_type": "code",
   "execution_count": 65,
   "metadata": {},
   "outputs": [
    {
     "data": {
      "text/html": [
       "<div>\n",
       "<style scoped>\n",
       "    .dataframe tbody tr th:only-of-type {\n",
       "        vertical-align: middle;\n",
       "    }\n",
       "\n",
       "    .dataframe tbody tr th {\n",
       "        vertical-align: top;\n",
       "    }\n",
       "\n",
       "    .dataframe thead th {\n",
       "        text-align: right;\n",
       "    }\n",
       "</style>\n",
       "<table border=\"1\" class=\"dataframe\">\n",
       "  <thead>\n",
       "    <tr style=\"text-align: right;\">\n",
       "      <th></th>\n",
       "      <th>contact</th>\n",
       "      <th>poutcome</th>\n",
       "      <th>month</th>\n",
       "      <th>duration</th>\n",
       "      <th>campaign</th>\n",
       "      <th>day</th>\n",
       "      <th>pdays</th>\n",
       "      <th>y</th>\n",
       "    </tr>\n",
       "  </thead>\n",
       "  <tbody>\n",
       "    <tr>\n",
       "      <th>0</th>\n",
       "      <td>unknown</td>\n",
       "      <td>unknown</td>\n",
       "      <td>may</td>\n",
       "      <td>261</td>\n",
       "      <td>1</td>\n",
       "      <td>5</td>\n",
       "      <td>-1</td>\n",
       "      <td>0</td>\n",
       "    </tr>\n",
       "    <tr>\n",
       "      <th>9</th>\n",
       "      <td>unknown</td>\n",
       "      <td>unknown</td>\n",
       "      <td>may</td>\n",
       "      <td>55</td>\n",
       "      <td>1</td>\n",
       "      <td>5</td>\n",
       "      <td>-1</td>\n",
       "      <td>0</td>\n",
       "    </tr>\n",
       "    <tr>\n",
       "      <th>10</th>\n",
       "      <td>unknown</td>\n",
       "      <td>unknown</td>\n",
       "      <td>may</td>\n",
       "      <td>222</td>\n",
       "      <td>1</td>\n",
       "      <td>5</td>\n",
       "      <td>-1</td>\n",
       "      <td>0</td>\n",
       "    </tr>\n",
       "    <tr>\n",
       "      <th>15</th>\n",
       "      <td>unknown</td>\n",
       "      <td>unknown</td>\n",
       "      <td>may</td>\n",
       "      <td>353</td>\n",
       "      <td>1</td>\n",
       "      <td>5</td>\n",
       "      <td>-1</td>\n",
       "      <td>0</td>\n",
       "    </tr>\n",
       "    <tr>\n",
       "      <th>17</th>\n",
       "      <td>unknown</td>\n",
       "      <td>unknown</td>\n",
       "      <td>may</td>\n",
       "      <td>38</td>\n",
       "      <td>1</td>\n",
       "      <td>5</td>\n",
       "      <td>-1</td>\n",
       "      <td>0</td>\n",
       "    </tr>\n",
       "  </tbody>\n",
       "</table>\n",
       "</div>"
      ],
      "text/plain": [
       "    contact poutcome month  duration  campaign  day  pdays  y\n",
       "0   unknown  unknown   may       261         1    5     -1  0\n",
       "9   unknown  unknown   may        55         1    5     -1  0\n",
       "10  unknown  unknown   may       222         1    5     -1  0\n",
       "15  unknown  unknown   may       353         1    5     -1  0\n",
       "17  unknown  unknown   may        38         1    5     -1  0"
      ]
     },
     "execution_count": 65,
     "metadata": {},
     "output_type": "execute_result"
    }
   ],
   "source": [
    "test = df.drop(train.index)\n",
    "test.head()"
   ]
  },
  {
   "cell_type": "code",
   "execution_count": 66,
   "metadata": {},
   "outputs": [],
   "source": [
    "val = train.sample(frac=0.2, random_state=100)"
   ]
  },
  {
   "cell_type": "code",
   "execution_count": 67,
   "metadata": {},
   "outputs": [
    {
     "data": {
      "text/plain": [
       "(6330, 8)"
      ]
     },
     "execution_count": 67,
     "metadata": {},
     "output_type": "execute_result"
    }
   ],
   "source": [
    "val.shape"
   ]
  },
  {
   "cell_type": "code",
   "execution_count": 68,
   "metadata": {},
   "outputs": [],
   "source": [
    "train = train.drop(val.index)"
   ]
  },
  {
   "cell_type": "code",
   "execution_count": 69,
   "metadata": {},
   "outputs": [
    {
     "name": "stdout",
     "output_type": "stream",
     "text": [
      "(25318, 8)\n",
      "(6330, 8)\n",
      "(13563, 8)\n"
     ]
    }
   ],
   "source": [
    "print(train.shape)\n",
    "print(val.shape)\n",
    "print(test.shape)"
   ]
  },
  {
   "cell_type": "code",
   "execution_count": 70,
   "metadata": {},
   "outputs": [
    {
     "data": {
      "text/html": [
       "<div>\n",
       "<style scoped>\n",
       "    .dataframe tbody tr th:only-of-type {\n",
       "        vertical-align: middle;\n",
       "    }\n",
       "\n",
       "    .dataframe tbody tr th {\n",
       "        vertical-align: top;\n",
       "    }\n",
       "\n",
       "    .dataframe thead th {\n",
       "        text-align: right;\n",
       "    }\n",
       "</style>\n",
       "<table border=\"1\" class=\"dataframe\">\n",
       "  <thead>\n",
       "    <tr style=\"text-align: right;\">\n",
       "      <th></th>\n",
       "      <th>duration</th>\n",
       "      <th>campaign</th>\n",
       "      <th>day</th>\n",
       "      <th>pdays</th>\n",
       "      <th>y</th>\n",
       "    </tr>\n",
       "  </thead>\n",
       "  <tbody>\n",
       "    <tr>\n",
       "      <th>count</th>\n",
       "      <td>25318.000000</td>\n",
       "      <td>25318.000000</td>\n",
       "      <td>25318.000000</td>\n",
       "      <td>25318.000000</td>\n",
       "      <td>25318.000000</td>\n",
       "    </tr>\n",
       "    <tr>\n",
       "      <th>mean</th>\n",
       "      <td>258.680188</td>\n",
       "      <td>2.758512</td>\n",
       "      <td>15.811675</td>\n",
       "      <td>41.054704</td>\n",
       "      <td>0.116873</td>\n",
       "    </tr>\n",
       "    <tr>\n",
       "      <th>std</th>\n",
       "      <td>259.833155</td>\n",
       "      <td>3.092315</td>\n",
       "      <td>8.339472</td>\n",
       "      <td>100.830245</td>\n",
       "      <td>0.321276</td>\n",
       "    </tr>\n",
       "    <tr>\n",
       "      <th>min</th>\n",
       "      <td>0.000000</td>\n",
       "      <td>1.000000</td>\n",
       "      <td>1.000000</td>\n",
       "      <td>-1.000000</td>\n",
       "      <td>0.000000</td>\n",
       "    </tr>\n",
       "    <tr>\n",
       "      <th>25%</th>\n",
       "      <td>103.000000</td>\n",
       "      <td>1.000000</td>\n",
       "      <td>8.000000</td>\n",
       "      <td>-1.000000</td>\n",
       "      <td>0.000000</td>\n",
       "    </tr>\n",
       "    <tr>\n",
       "      <th>50%</th>\n",
       "      <td>180.000000</td>\n",
       "      <td>2.000000</td>\n",
       "      <td>16.000000</td>\n",
       "      <td>-1.000000</td>\n",
       "      <td>0.000000</td>\n",
       "    </tr>\n",
       "    <tr>\n",
       "      <th>75%</th>\n",
       "      <td>319.000000</td>\n",
       "      <td>3.000000</td>\n",
       "      <td>21.000000</td>\n",
       "      <td>-1.000000</td>\n",
       "      <td>0.000000</td>\n",
       "    </tr>\n",
       "    <tr>\n",
       "      <th>max</th>\n",
       "      <td>4918.000000</td>\n",
       "      <td>63.000000</td>\n",
       "      <td>31.000000</td>\n",
       "      <td>854.000000</td>\n",
       "      <td>1.000000</td>\n",
       "    </tr>\n",
       "  </tbody>\n",
       "</table>\n",
       "</div>"
      ],
      "text/plain": [
       "           duration      campaign           day         pdays             y\n",
       "count  25318.000000  25318.000000  25318.000000  25318.000000  25318.000000\n",
       "mean     258.680188      2.758512     15.811675     41.054704      0.116873\n",
       "std      259.833155      3.092315      8.339472    100.830245      0.321276\n",
       "min        0.000000      1.000000      1.000000     -1.000000      0.000000\n",
       "25%      103.000000      1.000000      8.000000     -1.000000      0.000000\n",
       "50%      180.000000      2.000000     16.000000     -1.000000      0.000000\n",
       "75%      319.000000      3.000000     21.000000     -1.000000      0.000000\n",
       "max     4918.000000     63.000000     31.000000    854.000000      1.000000"
      ]
     },
     "execution_count": 70,
     "metadata": {},
     "output_type": "execute_result"
    }
   ],
   "source": [
    "train.describe()"
   ]
  },
  {
   "cell_type": "code",
   "execution_count": 71,
   "metadata": {},
   "outputs": [],
   "source": [
    "def dataframe_to_dataset(dataframe):\n",
    "    dataframe = dataframe.copy()\n",
    "    labels = dataframe.pop(\"y\")\n",
    "    ds = tf.data.Dataset.from_tensor_slices((dict(dataframe), labels))\n",
    "    ds = ds.shuffle(buffer_size=len(dataframe))\n",
    "    return ds"
   ]
  },
  {
   "cell_type": "code",
   "execution_count": 72,
   "metadata": {},
   "outputs": [],
   "source": [
    "train_ds = dataframe_to_dataset(train)\n",
    "val_ds = dataframe_to_dataset(val)\n",
    "test_ds = dataframe_to_dataset(test)"
   ]
  },
  {
   "cell_type": "code",
   "execution_count": 73,
   "metadata": {},
   "outputs": [
    {
     "name": "stdout",
     "output_type": "stream",
     "text": [
      "<_ShuffleDataset element_spec=({'contact': TensorSpec(shape=(), dtype=tf.string, name=None), 'poutcome': TensorSpec(shape=(), dtype=tf.string, name=None), 'month': TensorSpec(shape=(), dtype=tf.string, name=None), 'duration': TensorSpec(shape=(), dtype=tf.int64, name=None), 'campaign': TensorSpec(shape=(), dtype=tf.int64, name=None), 'day': TensorSpec(shape=(), dtype=tf.int64, name=None), 'pdays': TensorSpec(shape=(), dtype=tf.int64, name=None)}, TensorSpec(shape=(), dtype=tf.int64, name=None))>\n"
     ]
    }
   ],
   "source": [
    "print(train_ds)"
   ]
  },
  {
   "cell_type": "code",
   "execution_count": 74,
   "metadata": {},
   "outputs": [
    {
     "data": {
      "text/plain": [
       "tensorflow.python.data.ops.shuffle_op._ShuffleDataset"
      ]
     },
     "execution_count": 74,
     "metadata": {},
     "output_type": "execute_result"
    }
   ],
   "source": [
    "type(train_ds)"
   ]
  },
  {
   "cell_type": "code",
   "execution_count": 75,
   "metadata": {},
   "outputs": [
    {
     "name": "stdout",
     "output_type": "stream",
     "text": [
      "Input: {'contact': <tf.Tensor: shape=(), dtype=string, numpy=b'unknown'>, 'poutcome': <tf.Tensor: shape=(), dtype=string, numpy=b'unknown'>, 'month': <tf.Tensor: shape=(), dtype=string, numpy=b'jun'>, 'duration': <tf.Tensor: shape=(), dtype=int64, numpy=27>, 'campaign': <tf.Tensor: shape=(), dtype=int64, numpy=3>, 'day': <tf.Tensor: shape=(), dtype=int64, numpy=20>, 'pdays': <tf.Tensor: shape=(), dtype=int64, numpy=-1>}\n",
      "y: tf.Tensor(0, shape=(), dtype=int64)\n"
     ]
    }
   ],
   "source": [
    "for x, y in train_ds.take(1):\n",
    "    print(\"Input:\", x)\n",
    "    print(\"y:\", y)"
   ]
  },
  {
   "cell_type": "code",
   "execution_count": 76,
   "metadata": {},
   "outputs": [],
   "source": [
    "batch_size = 32\n",
    "train_ds = train_ds.batch(batch_size)\n",
    "test_ds = test_ds.batch(batch_size)\n",
    "val_ds = val_ds.batch(batch_size)"
   ]
  },
  {
   "cell_type": "code",
   "execution_count": 77,
   "metadata": {},
   "outputs": [],
   "source": [
    "def encode_numerical_feature(feature, name, dataset):\n",
    "    # Crea capa de normalización para este feature\n",
    "    normalizer = keras.layers.Normalization()\n",
    "\n",
    "    # Prepara el dataset para considerar únicamente la feature de interés (name)\n",
    "    feature_ds = dataset.map(lambda x, y: x[name]) # selecciona variable\n",
    "    feature_ds = feature_ds.map(lambda x: tf.expand_dims(x, -1)) # deja el tensor de una dimensión\n",
    "\n",
    "    # Aprende las estadísticas de los datos (media, varianza)\n",
    "    normalizer.adapt(feature_ds)\n",
    "\n",
    "    # Aplica la normalización a la variable\n",
    "    encoded_feature = normalizer(feature)\n",
    "    return encoded_feature"
   ]
  },
  {
   "cell_type": "code",
   "execution_count": 78,
   "metadata": {},
   "outputs": [],
   "source": [
    "def encode_categorical_feature(feature, name, dataset, is_string):\n",
    "    lookup_class = keras.layers.StringLookup if is_string else keras.layers.IntegerLookup\n",
    "    # Crea una capa Lookup para retornas variables 0/1 (dummies)\n",
    "    # lookup: busca el valor correspondiente de la variable categórica\n",
    "    lookup = lookup_class(output_mode=\"binary\")\n",
    "\n",
    "    # Prepara el dataset para considerar únicamente la feature de interés (name)\n",
    "    feature_ds = dataset.map(lambda x, y: x[name]) # selecciona variable\n",
    "    feature_ds = feature_ds.map(lambda x: tf.expand_dims(x, -1)) # deja el tensor de una dimensión\n",
    "\n",
    "    # Aprende el conjunto de posibles valores que toma la variable categórica y asigna enteros\n",
    "    lookup.adapt(feature_ds)\n",
    "\n",
    "    # Aplica la conversión de categorías a enteros\n",
    "    encoded_feature = lookup(feature)\n",
    "    return encoded_feature"
   ]
  },
  {
   "cell_type": "code",
   "execution_count": 79,
   "metadata": {},
   "outputs": [],
   "source": [
    "inputs = []\n",
    "for i in cat_int_feats:\n",
    "  inputs.append(keras.Input(shape=(1,), name=i, dtype=\"int64\"))"
   ]
  },
  {
   "cell_type": "code",
   "execution_count": 80,
   "metadata": {},
   "outputs": [],
   "source": [
    "for i in cat_str_feats:\n",
    "  inputs.append(keras.Input(shape=(1,), name=i, dtype=\"string\"))"
   ]
  },
  {
   "cell_type": "code",
   "execution_count": 81,
   "metadata": {},
   "outputs": [],
   "source": [
    "for i in num_feats:\n",
    "  inputs.append(keras.Input(shape=(1,), name=i))"
   ]
  },
  {
   "cell_type": "code",
   "execution_count": 82,
   "metadata": {},
   "outputs": [
    {
     "name": "stdout",
     "output_type": "stream",
     "text": [
      "KerasTensor(type_spec=TensorSpec(shape=(None, 1), dtype=tf.string, name='contact'), name='contact', description=\"created by layer 'contact'\")\n",
      "KerasTensor(type_spec=TensorSpec(shape=(None, 1), dtype=tf.string, name='poutcome'), name='poutcome', description=\"created by layer 'poutcome'\")\n",
      "KerasTensor(type_spec=TensorSpec(shape=(None, 1), dtype=tf.string, name='month'), name='month', description=\"created by layer 'month'\")\n",
      "KerasTensor(type_spec=TensorSpec(shape=(None, 1), dtype=tf.float32, name='duration'), name='duration', description=\"created by layer 'duration'\")\n",
      "KerasTensor(type_spec=TensorSpec(shape=(None, 1), dtype=tf.float32, name='campaign'), name='campaign', description=\"created by layer 'campaign'\")\n",
      "KerasTensor(type_spec=TensorSpec(shape=(None, 1), dtype=tf.float32, name='day'), name='day', description=\"created by layer 'day'\")\n",
      "KerasTensor(type_spec=TensorSpec(shape=(None, 1), dtype=tf.float32, name='pdays'), name='pdays', description=\"created by layer 'pdays'\")\n"
     ]
    }
   ],
   "source": [
    "for i in inputs:\n",
    "   print(i)"
   ]
  },
  {
   "cell_type": "code",
   "execution_count": 83,
   "metadata": {},
   "outputs": [],
   "source": [
    "feats_encoded=[]"
   ]
  },
  {
   "cell_type": "code",
   "execution_count": 84,
   "metadata": {},
   "outputs": [],
   "source": [
    "for i,feat in enumerate(cat_int_feats):\n",
    "  feats_encoded.append(\n",
    "      encode_categorical_feature(inputs[i], feat, train_ds, False)\n",
    "  )"
   ]
  },
  {
   "cell_type": "code",
   "execution_count": 85,
   "metadata": {},
   "outputs": [
    {
     "data": {
      "text/plain": [
       "0"
      ]
     },
     "execution_count": 85,
     "metadata": {},
     "output_type": "execute_result"
    }
   ],
   "source": [
    "len_feats = len(feats_encoded)\n",
    "len_feats"
   ]
  },
  {
   "cell_type": "code",
   "execution_count": 86,
   "metadata": {},
   "outputs": [],
   "source": [
    "for i,feat in enumerate(cat_str_feats):\n",
    "  feats_encoded.append(\n",
    "      encode_categorical_feature(inputs[len_feats+i], feat, train_ds, True)\n",
    "  )"
   ]
  },
  {
   "cell_type": "code",
   "execution_count": 87,
   "metadata": {},
   "outputs": [
    {
     "data": {
      "text/plain": [
       "3"
      ]
     },
     "execution_count": 87,
     "metadata": {},
     "output_type": "execute_result"
    }
   ],
   "source": [
    "len_feats = len(feats_encoded)\n",
    "len_feats"
   ]
  },
  {
   "cell_type": "code",
   "execution_count": 88,
   "metadata": {},
   "outputs": [],
   "source": [
    "for i,feat in enumerate(num_feats):\n",
    "  feats_encoded.append(\n",
    "      encode_numerical_feature(inputs[len_feats+i], feat, train_ds)\n",
    "  )"
   ]
  },
  {
   "cell_type": "code",
   "execution_count": 89,
   "metadata": {},
   "outputs": [
    {
     "name": "stdout",
     "output_type": "stream",
     "text": [
      "KerasTensor(type_spec=TensorSpec(shape=(None, 4), dtype=tf.float32, name=None), name='string_lookup_3/bincount/DenseBincount:0', description=\"created by layer 'string_lookup_3'\")\n",
      "KerasTensor(type_spec=TensorSpec(shape=(None, 5), dtype=tf.float32, name=None), name='string_lookup_4/bincount/DenseBincount:0', description=\"created by layer 'string_lookup_4'\")\n",
      "KerasTensor(type_spec=TensorSpec(shape=(None, 13), dtype=tf.float32, name=None), name='string_lookup_5/bincount/DenseBincount:0', description=\"created by layer 'string_lookup_5'\")\n",
      "KerasTensor(type_spec=TensorSpec(shape=(None, 1), dtype=tf.float32, name=None), name='normalization_1/truediv:0', description=\"created by layer 'normalization_1'\")\n",
      "KerasTensor(type_spec=TensorSpec(shape=(None, 1), dtype=tf.float32, name=None), name='normalization_2/truediv:0', description=\"created by layer 'normalization_2'\")\n",
      "KerasTensor(type_spec=TensorSpec(shape=(None, 1), dtype=tf.float32, name=None), name='normalization_3/truediv:0', description=\"created by layer 'normalization_3'\")\n",
      "KerasTensor(type_spec=TensorSpec(shape=(None, 1), dtype=tf.float32, name=None), name='normalization_4/truediv:0', description=\"created by layer 'normalization_4'\")\n"
     ]
    }
   ],
   "source": [
    "for i in feats_encoded:\n",
    "  print(i)"
   ]
  },
  {
   "cell_type": "code",
   "execution_count": 90,
   "metadata": {},
   "outputs": [],
   "source": [
    "all_feats = keras.layers.concatenate(feats_encoded)"
   ]
  },
  {
   "cell_type": "code",
   "execution_count": 91,
   "metadata": {},
   "outputs": [
    {
     "data": {
      "text/plain": [
       "keras.src.engine.keras_tensor.KerasTensor"
      ]
     },
     "execution_count": 91,
     "metadata": {},
     "output_type": "execute_result"
    }
   ],
   "source": [
    "type(all_feats)"
   ]
  },
  {
   "cell_type": "code",
   "execution_count": 92,
   "metadata": {},
   "outputs": [],
   "source": [
    "model_layers = keras.layers.Dense(32, activation='relu')(all_feats)"
   ]
  },
  {
   "cell_type": "code",
   "execution_count": 93,
   "metadata": {},
   "outputs": [],
   "source": [
    "model_layers = keras.layers.Dense(1, activation='tanh')(model_layers)"
   ]
  },
  {
   "cell_type": "code",
   "execution_count": 94,
   "metadata": {},
   "outputs": [],
   "source": [
    "model = keras.Model(inputs, model_layers)"
   ]
  },
  {
   "cell_type": "code",
   "execution_count": 95,
   "metadata": {},
   "outputs": [],
   "source": [
    "model.compile(optimizer='adam', loss='binary_crossentropy', metrics=['accuracy'])"
   ]
  },
  {
   "cell_type": "code",
   "execution_count": 96,
   "metadata": {},
   "outputs": [
    {
     "data": {
      "image/png": "[encoded data removed]",
      "text/plain": [
       "<IPython.core.display.Image object>"
      ]
     },
     "execution_count": 96,
     "metadata": {},
     "output_type": "execute_result"
    }
   ],
   "source": [
    "keras.utils.plot_model(model, show_shapes=True, rankdir=\"LR\")"
   ]
  },
  {
   "cell_type": "code",
   "execution_count": 97,
   "metadata": {},
   "outputs": [],
   "source": [
    "import os\n",
    "os.environ[\"KERAS_BACKEND\"] = \"tensorflow\""
   ]
  },
  {
   "cell_type": "code",
   "execution_count": 98,
   "metadata": {},
   "outputs": [
    {
     "name": "stdout",
     "output_type": "stream",
     "text": [
      "Epoch 1/50\n",
      "792/792 [==============================] - 3s 2ms/step - loss: 0.4584 - accuracy: 0.8905 - val_loss: 0.2694 - val_accuracy: 0.8981\n",
      "Epoch 2/50\n",
      "792/792 [==============================] - 2s 2ms/step - loss: 0.2773 - accuracy: 0.8990 - val_loss: 0.2405 - val_accuracy: 0.9030\n",
      "Epoch 3/50\n",
      "792/792 [==============================] - 2s 2ms/step - loss: 0.2490 - accuracy: 0.8994 - val_loss: 0.2512 - val_accuracy: 0.9014\n",
      "Epoch 4/50\n",
      "792/792 [==============================] - 2s 2ms/step - loss: 0.2457 - accuracy: 0.9025 - val_loss: 0.2512 - val_accuracy: 0.8997\n",
      "Epoch 5/50\n",
      "792/792 [==============================] - 2s 2ms/step - loss: 0.2425 - accuracy: 0.9027 - val_loss: 0.2388 - val_accuracy: 0.9025\n",
      "Epoch 6/50\n",
      "792/792 [==============================] - 2s 2ms/step - loss: 0.2404 - accuracy: 0.9026 - val_loss: 0.2402 - val_accuracy: 0.9036\n",
      "Epoch 7/50\n",
      "792/792 [==============================] - 2s 2ms/step - loss: 0.2359 - accuracy: 0.9049 - val_loss: 0.2452 - val_accuracy: 0.9036\n",
      "Epoch 8/50\n",
      "792/792 [==============================] - 2s 2ms/step - loss: 0.2264 - accuracy: 0.9041 - val_loss: 0.2415 - val_accuracy: 0.9044\n",
      "Epoch 9/50\n",
      "792/792 [==============================] - 2s 2ms/step - loss: 0.2359 - accuracy: 0.9003 - val_loss: 0.2791 - val_accuracy: 0.8882\n",
      "Epoch 10/50\n",
      "792/792 [==============================] - 2s 2ms/step - loss: 0.2511 - accuracy: 0.9007 - val_loss: 0.2567 - val_accuracy: 0.9060\n",
      "Epoch 11/50\n",
      "792/792 [==============================] - 2s 2ms/step - loss: 0.2333 - accuracy: 0.9042 - val_loss: 0.2541 - val_accuracy: 0.9060\n",
      "Epoch 12/50\n",
      "792/792 [==============================] - 2s 2ms/step - loss: 0.2354 - accuracy: 0.9055 - val_loss: 0.2382 - val_accuracy: 0.9074\n",
      "Epoch 13/50\n",
      "792/792 [==============================] - 2s 3ms/step - loss: 0.2350 - accuracy: 0.9057 - val_loss: 0.2367 - val_accuracy: 0.9058\n",
      "Epoch 14/50\n",
      "792/792 [==============================] - 2s 3ms/step - loss: 0.2304 - accuracy: 0.9058 - val_loss: 0.2338 - val_accuracy: 0.9057\n",
      "Epoch 15/50\n",
      "792/792 [==============================] - 2s 3ms/step - loss: 0.2335 - accuracy: 0.9065 - val_loss: 0.2550 - val_accuracy: 0.9033\n",
      "Epoch 16/50\n",
      "792/792 [==============================] - 2s 3ms/step - loss: 0.2301 - accuracy: 0.9070 - val_loss: 0.2422 - val_accuracy: 0.9049\n",
      "Epoch 17/50\n",
      "792/792 [==============================] - 2s 3ms/step - loss: 0.2259 - accuracy: 0.9072 - val_loss: 0.2525 - val_accuracy: 0.9055\n",
      "Epoch 18/50\n",
      "792/792 [==============================] - 2s 3ms/step - loss: 0.2611 - accuracy: 0.8898 - val_loss: 0.2597 - val_accuracy: 0.9049\n",
      "Epoch 19/50\n",
      "792/792 [==============================] - 2s 3ms/step - loss: 0.2303 - accuracy: 0.9060 - val_loss: 0.2434 - val_accuracy: 0.9044\n",
      "Epoch 20/50\n",
      "792/792 [==============================] - 2s 3ms/step - loss: 0.2308 - accuracy: 0.9067 - val_loss: 0.2373 - val_accuracy: 0.9055\n",
      "Epoch 21/50\n",
      "792/792 [==============================] - 2s 3ms/step - loss: 0.2255 - accuracy: 0.9071 - val_loss: 0.2542 - val_accuracy: 0.9062\n",
      "Epoch 22/50\n",
      "792/792 [==============================] - 2s 3ms/step - loss: 0.2344 - accuracy: 0.9062 - val_loss: 0.2564 - val_accuracy: 0.9052\n",
      "Epoch 23/50\n",
      "792/792 [==============================] - 2s 3ms/step - loss: 0.2365 - accuracy: 0.9031 - val_loss: 0.2304 - val_accuracy: 0.9063\n",
      "Epoch 24/50\n",
      "792/792 [==============================] - 2s 3ms/step - loss: 0.2325 - accuracy: 0.9053 - val_loss: 0.2499 - val_accuracy: 0.9062\n",
      "Epoch 25/50\n",
      "792/792 [==============================] - 2s 3ms/step - loss: 0.2459 - accuracy: 0.9027 - val_loss: 0.2450 - val_accuracy: 0.9043\n",
      "Epoch 26/50\n",
      "792/792 [==============================] - 2s 3ms/step - loss: 0.2404 - accuracy: 0.9058 - val_loss: 0.2381 - val_accuracy: 0.9051\n",
      "Epoch 27/50\n",
      "792/792 [==============================] - 2s 3ms/step - loss: 0.2316 - accuracy: 0.9048 - val_loss: 0.2510 - val_accuracy: 0.9039\n",
      "Epoch 28/50\n",
      "792/792 [==============================] - 2s 3ms/step - loss: 0.2232 - accuracy: 0.9065 - val_loss: 0.2374 - val_accuracy: 0.9038\n",
      "Epoch 29/50\n",
      "792/792 [==============================] - 2s 3ms/step - loss: 0.2351 - accuracy: 0.9028 - val_loss: 0.2502 - val_accuracy: 0.9038\n",
      "Epoch 30/50\n",
      "792/792 [==============================] - 2s 3ms/step - loss: 0.2320 - accuracy: 0.9062 - val_loss: 0.2466 - val_accuracy: 0.9039\n",
      "Epoch 31/50\n",
      "792/792 [==============================] - 2s 3ms/step - loss: 0.2269 - accuracy: 0.9080 - val_loss: 0.2353 - val_accuracy: 0.9019\n",
      "Epoch 32/50\n",
      "792/792 [==============================] - 2s 3ms/step - loss: 0.2297 - accuracy: 0.9085 - val_loss: 0.2263 - val_accuracy: 0.9039\n",
      "Epoch 33/50\n",
      "792/792 [==============================] - 2s 3ms/step - loss: 0.2229 - accuracy: 0.9077 - val_loss: 0.2365 - val_accuracy: 0.9028\n",
      "Epoch 34/50\n",
      "792/792 [==============================] - 2s 3ms/step - loss: 0.2206 - accuracy: 0.9075 - val_loss: 0.2498 - val_accuracy: 0.9043\n",
      "Epoch 35/50\n",
      "792/792 [==============================] - 2s 2ms/step - loss: 0.2199 - accuracy: 0.9076 - val_loss: 0.2309 - val_accuracy: 0.9036\n",
      "Epoch 36/50\n",
      "792/792 [==============================] - 2s 2ms/step - loss: 0.2425 - accuracy: 0.8950 - val_loss: 0.2436 - val_accuracy: 0.8998\n",
      "Epoch 37/50\n",
      "792/792 [==============================] - 2s 2ms/step - loss: 0.2300 - accuracy: 0.9060 - val_loss: 0.2408 - val_accuracy: 0.9043\n",
      "Epoch 38/50\n",
      "792/792 [==============================] - 2s 2ms/step - loss: 0.2651 - accuracy: 0.8818 - val_loss: 0.2914 - val_accuracy: 0.8697\n",
      "Epoch 39/50\n",
      "792/792 [==============================] - 2s 2ms/step - loss: 0.2505 - accuracy: 0.8964 - val_loss: 0.2582 - val_accuracy: 0.9021\n",
      "Epoch 40/50\n",
      "792/792 [==============================] - 2s 2ms/step - loss: 0.2455 - accuracy: 0.8986 - val_loss: 0.2599 - val_accuracy: 0.8997\n",
      "Epoch 41/50\n",
      "792/792 [==============================] - 2s 2ms/step - loss: 0.2375 - accuracy: 0.9058 - val_loss: 0.2614 - val_accuracy: 0.9016\n",
      "Epoch 42/50\n",
      "792/792 [==============================] - 2s 2ms/step - loss: 0.2306 - accuracy: 0.9074 - val_loss: 0.2398 - val_accuracy: 0.9027\n",
      "Epoch 43/50\n",
      "792/792 [==============================] - 2s 2ms/step - loss: 0.2301 - accuracy: 0.9079 - val_loss: 0.2534 - val_accuracy: 0.9025\n",
      "Epoch 44/50\n",
      "792/792 [==============================] - 2s 2ms/step - loss: 0.2312 - accuracy: 0.9084 - val_loss: 0.2614 - val_accuracy: 0.9006\n",
      "Epoch 45/50\n",
      "792/792 [==============================] - 2s 2ms/step - loss: 0.2278 - accuracy: 0.9086 - val_loss: 0.2503 - val_accuracy: 0.9016\n",
      "Epoch 46/50\n",
      "792/792 [==============================] - 2s 3ms/step - loss: 0.2245 - accuracy: 0.9084 - val_loss: 0.2380 - val_accuracy: 0.8995\n",
      "Epoch 47/50\n",
      "792/792 [==============================] - 2s 2ms/step - loss: 0.2228 - accuracy: 0.9093 - val_loss: 0.2491 - val_accuracy: 0.9021\n",
      "Epoch 48/50\n",
      "792/792 [==============================] - 2s 2ms/step - loss: 0.2325 - accuracy: 0.9080 - val_loss: 0.2473 - val_accuracy: 0.9011\n",
      "Epoch 49/50\n",
      "792/792 [==============================] - 2s 2ms/step - loss: 0.2409 - accuracy: 0.9026 - val_loss: 0.2517 - val_accuracy: 0.9051\n",
      "Epoch 50/50\n",
      "792/792 [==============================] - 2s 2ms/step - loss: 0.2253 - accuracy: 0.9084 - val_loss: 0.2522 - val_accuracy: 0.9033\n"
     ]
    },
    {
     "data": {
      "text/plain": [
       "<keras.src.callbacks.History at 0x255fbea8fd0>"
      ]
     },
     "execution_count": 98,
     "metadata": {},
     "output_type": "execute_result"
    }
   ],
   "source": [
    "model.fit(train_ds, epochs=50, validation_data=val_ds)"
   ]
  },
  {
   "cell_type": "code",
   "execution_count": 99,
   "metadata": {},
   "outputs": [
    {
     "name": "stdout",
     "output_type": "stream",
     "text": [
      "Epoch 1/50\n"
     ]
    },
    {
     "name": "stdout",
     "output_type": "stream",
     "text": [
      "792/792 [==============================] - 2s 2ms/step - loss: 0.2242 - accuracy: 0.9080 - val_loss: 0.2409 - val_accuracy: 0.9038\n",
      "Epoch 2/50\n",
      "792/792 [==============================] - 2s 2ms/step - loss: 0.2208 - accuracy: 0.9096 - val_loss: 0.2449 - val_accuracy: 0.9038\n",
      "Epoch 3/50\n",
      "792/792 [==============================] - 2s 2ms/step - loss: 0.2224 - accuracy: 0.9084 - val_loss: 0.2463 - val_accuracy: 0.8935\n",
      "Epoch 4/50\n",
      "792/792 [==============================] - 2s 2ms/step - loss: 0.2210 - accuracy: 0.9085 - val_loss: 0.2413 - val_accuracy: 0.9030\n",
      "Epoch 5/50\n",
      "792/792 [==============================] - 2s 2ms/step - loss: 0.2258 - accuracy: 0.9067 - val_loss: 0.2403 - val_accuracy: 0.9055\n",
      "Epoch 6/50\n",
      "792/792 [==============================] - 2s 2ms/step - loss: 0.2200 - accuracy: 0.9084 - val_loss: 0.2354 - val_accuracy: 0.9036\n",
      "Epoch 7/50\n",
      "792/792 [==============================] - 2s 2ms/step - loss: 0.2362 - accuracy: 0.9062 - val_loss: 0.2494 - val_accuracy: 0.9044\n",
      "Epoch 8/50\n",
      "792/792 [==============================] - 2s 2ms/step - loss: 0.2292 - accuracy: 0.9080 - val_loss: 0.2549 - val_accuracy: 0.9049\n",
      "Epoch 9/50\n",
      "792/792 [==============================] - 2s 2ms/step - loss: 0.2344 - accuracy: 0.9020 - val_loss: 0.2498 - val_accuracy: 0.9052\n",
      "Epoch 10/50\n",
      "792/792 [==============================] - 2s 2ms/step - loss: 0.2226 - accuracy: 0.9082 - val_loss: 0.2424 - val_accuracy: 0.9033\n",
      "Epoch 11/50\n",
      "792/792 [==============================] - 2s 2ms/step - loss: 0.2191 - accuracy: 0.9080 - val_loss: 0.2434 - val_accuracy: 0.9049\n",
      "Epoch 12/50\n",
      "792/792 [==============================] - 2s 2ms/step - loss: 0.2190 - accuracy: 0.9083 - val_loss: 0.2627 - val_accuracy: 0.9035\n",
      "Epoch 13/50\n",
      "792/792 [==============================] - 2s 2ms/step - loss: 0.2270 - accuracy: 0.9084 - val_loss: 0.2549 - val_accuracy: 0.9030\n",
      "Epoch 14/50\n",
      "792/792 [==============================] - 2s 2ms/step - loss: 0.2258 - accuracy: 0.9082 - val_loss: 0.2439 - val_accuracy: 0.9041\n",
      "Epoch 15/50\n",
      "792/792 [==============================] - 2s 2ms/step - loss: 0.2257 - accuracy: 0.9065 - val_loss: 0.2509 - val_accuracy: 0.9024\n",
      "Epoch 16/50\n",
      "792/792 [==============================] - 2s 2ms/step - loss: 0.2315 - accuracy: 0.9060 - val_loss: 0.2412 - val_accuracy: 0.9038\n",
      "Epoch 17/50\n",
      "792/792 [==============================] - 2s 2ms/step - loss: 0.2192 - accuracy: 0.9075 - val_loss: 0.2334 - val_accuracy: 0.9025\n",
      "Epoch 18/50\n",
      "792/792 [==============================] - 2s 2ms/step - loss: 0.2179 - accuracy: 0.9085 - val_loss: 0.2371 - val_accuracy: 0.9016\n",
      "Epoch 19/50\n",
      "792/792 [==============================] - 2s 2ms/step - loss: 0.2213 - accuracy: 0.9061 - val_loss: 0.2318 - val_accuracy: 0.9028\n",
      "Epoch 20/50\n",
      "792/792 [==============================] - 2s 2ms/step - loss: 0.2190 - accuracy: 0.9086 - val_loss: 0.2351 - val_accuracy: 0.9055\n",
      "Epoch 21/50\n",
      "792/792 [==============================] - 2s 2ms/step - loss: 0.2169 - accuracy: 0.9076 - val_loss: 0.2319 - val_accuracy: 0.9043\n",
      "Epoch 22/50\n",
      "792/792 [==============================] - 2s 2ms/step - loss: 0.2205 - accuracy: 0.9080 - val_loss: 0.2346 - val_accuracy: 0.9038\n",
      "Epoch 23/50\n",
      "792/792 [==============================] - 2s 2ms/step - loss: 0.2236 - accuracy: 0.9074 - val_loss: 0.2266 - val_accuracy: 0.9043\n",
      "Epoch 24/50\n",
      "792/792 [==============================] - 2s 2ms/step - loss: 0.2304 - accuracy: 0.9050 - val_loss: 0.2575 - val_accuracy: 0.9068\n",
      "Epoch 25/50\n",
      "792/792 [==============================] - 2s 2ms/step - loss: 0.2216 - accuracy: 0.9081 - val_loss: 0.2389 - val_accuracy: 0.9058\n",
      "Epoch 26/50\n",
      "792/792 [==============================] - 2s 2ms/step - loss: 0.2197 - accuracy: 0.9088 - val_loss: 0.2392 - val_accuracy: 0.9046\n",
      "Epoch 27/50\n",
      "792/792 [==============================] - 2s 2ms/step - loss: 0.2162 - accuracy: 0.9087 - val_loss: 0.2439 - val_accuracy: 0.9049\n",
      "Epoch 28/50\n",
      "792/792 [==============================] - 2s 2ms/step - loss: 0.2240 - accuracy: 0.9092 - val_loss: 0.2272 - val_accuracy: 0.9044\n",
      "Epoch 29/50\n",
      "792/792 [==============================] - 2s 2ms/step - loss: 0.2213 - accuracy: 0.9087 - val_loss: 0.2396 - val_accuracy: 0.9058\n",
      "Epoch 30/50\n",
      "792/792 [==============================] - 2s 3ms/step - loss: 0.2203 - accuracy: 0.9085 - val_loss: 0.2406 - val_accuracy: 0.9046\n",
      "Epoch 31/50\n",
      "792/792 [==============================] - 2s 2ms/step - loss: 0.2166 - accuracy: 0.9090 - val_loss: 0.2339 - val_accuracy: 0.9043\n",
      "Epoch 32/50\n",
      "792/792 [==============================] - 2s 2ms/step - loss: 0.2279 - accuracy: 0.9062 - val_loss: 0.2649 - val_accuracy: 0.8946\n",
      "Epoch 33/50\n",
      "792/792 [==============================] - 2s 2ms/step - loss: 0.2291 - accuracy: 0.9075 - val_loss: 0.2418 - val_accuracy: 0.9044\n",
      "Epoch 34/50\n",
      "792/792 [==============================] - 2s 2ms/step - loss: 0.2188 - accuracy: 0.9093 - val_loss: 0.2372 - val_accuracy: 0.9070\n",
      "Epoch 35/50\n",
      "792/792 [==============================] - 2s 2ms/step - loss: 0.2305 - accuracy: 0.9076 - val_loss: 0.2554 - val_accuracy: 0.9054\n",
      "Epoch 36/50\n",
      "792/792 [==============================] - 2s 2ms/step - loss: 0.2204 - accuracy: 0.9077 - val_loss: 0.2446 - val_accuracy: 0.9043\n",
      "Epoch 37/50\n",
      "792/792 [==============================] - 2s 2ms/step - loss: 0.2466 - accuracy: 0.8999 - val_loss: 0.2750 - val_accuracy: 0.8844\n",
      "Epoch 38/50\n",
      "792/792 [==============================] - 2s 2ms/step - loss: 0.2367 - accuracy: 0.9017 - val_loss: 0.2540 - val_accuracy: 0.9006\n",
      "Epoch 39/50\n",
      "792/792 [==============================] - 2s 2ms/step - loss: 0.2219 - accuracy: 0.9079 - val_loss: 0.2338 - val_accuracy: 0.9041\n",
      "Epoch 40/50\n",
      "792/792 [==============================] - 2s 2ms/step - loss: 0.2183 - accuracy: 0.9079 - val_loss: 0.2460 - val_accuracy: 0.9046\n",
      "Epoch 41/50\n",
      "792/792 [==============================] - 2s 2ms/step - loss: 0.2157 - accuracy: 0.9084 - val_loss: 0.2379 - val_accuracy: 0.9025\n",
      "Epoch 42/50\n",
      "792/792 [==============================] - 2s 2ms/step - loss: 0.2173 - accuracy: 0.9084 - val_loss: 0.2370 - val_accuracy: 0.9028\n",
      "Epoch 43/50\n",
      "792/792 [==============================] - 2s 2ms/step - loss: 0.2160 - accuracy: 0.9083 - val_loss: 0.2277 - val_accuracy: 0.9036\n",
      "Epoch 44/50\n",
      "792/792 [==============================] - 2s 2ms/step - loss: 0.2215 - accuracy: 0.9080 - val_loss: 0.2445 - val_accuracy: 0.8979\n",
      "Epoch 45/50\n",
      "792/792 [==============================] - 2s 2ms/step - loss: 0.2267 - accuracy: 0.9072 - val_loss: 0.2428 - val_accuracy: 0.9036\n",
      "Epoch 46/50\n",
      "792/792 [==============================] - 2s 2ms/step - loss: 0.2189 - accuracy: 0.9084 - val_loss: 0.2385 - val_accuracy: 0.9041\n",
      "Epoch 47/50\n",
      "792/792 [==============================] - 2s 2ms/step - loss: 0.2171 - accuracy: 0.9092 - val_loss: 0.2358 - val_accuracy: 0.9035\n",
      "Epoch 48/50\n",
      "792/792 [==============================] - 2s 3ms/step - loss: 0.2155 - accuracy: 0.9084 - val_loss: 0.2318 - val_accuracy: 0.9032\n",
      "Epoch 49/50\n",
      "792/792 [==============================] - 2s 2ms/step - loss: 0.2158 - accuracy: 0.9074 - val_loss: 0.2375 - val_accuracy: 0.9046\n",
      "Epoch 50/50\n",
      "792/792 [==============================] - 2s 3ms/step - loss: 0.2138 - accuracy: 0.9082 - val_loss: 0.2353 - val_accuracy: 0.9038\n"
     ]
    },
    {
     "data": {
      "image/png": "[encoded data removed]",
      "text/plain": [
       "<Figure size 1200x500 with 2 Axes>"
      ]
     },
     "metadata": {},
     "output_type": "display_data"
    }
   ],
   "source": [
    "import matplotlib.pyplot as plt\n",
    "\n",
    "# Suponiendo que has guardado el historial del entrenamiento\n",
    "history = model.fit(train_ds, epochs=50, validation_data=val_ds)\n",
    "\n",
    "# Graficar pérdida (loss)\n",
    "plt.figure(figsize=(12, 5))\n",
    "\n",
    "plt.subplot(1, 2, 1)\n",
    "plt.plot(history.history['loss'], label='Pérdida de entrenamiento')\n",
    "plt.plot(history.history['val_loss'], label='Pérdida de validación')\n",
    "plt.title('Pérdida durante el entrenamiento')\n",
    "plt.xlabel('Épocas')\n",
    "plt.ylabel('Pérdida')\n",
    "plt.legend()\n",
    "\n",
    "# Graficar precisión (accuracy)\n",
    "plt.subplot(1, 2, 2)\n",
    "plt.plot(history.history['accuracy'], label='Precisión de entrenamiento')\n",
    "plt.plot(history.history['val_accuracy'], label='Precisión de validación')\n",
    "plt.title('Precisión durante el entrenamiento')\n",
    "plt.xlabel('Épocas')\n",
    "plt.ylabel('Precisión')\n",
    "plt.legend()\n",
    "\n",
    "plt.tight_layout()\n",
    "plt.show()"
   ]
  },
  {
   "cell_type": "markdown",
   "metadata": {},
   "source": [
    "Ejemplo de Prediccion"
   ]
  },
  {
   "cell_type": "code",
   "execution_count": 103,
   "metadata": {},
   "outputs": [],
   "source": [
    "# Suponiendo que estos son los nuevos datos (df_new), deben tener las mismas columnas que tus datos de entrenamiento\n",
    "data_nueva = {\n",
    "    'campaign': [1, 4],        \n",
    "    'day': [10, 22],           \n",
    "    'contact': ['telephone', 'cellular'],       \n",
    "    'poutcome': ['failure', 'success'], \n",
    "    'month': ['jan', 'dec'],         \n",
    "    'duration': [20, 400],\n",
    "    'pdays': [-1, 2],\n",
    "    'y': [0,0]   # nos inventamos cualquier valor de y para que funcione el codigo anterior sin influir la prediccion\n",
    "}\n"
   ]
  },
  {
   "cell_type": "code",
   "execution_count": 104,
   "metadata": {},
   "outputs": [],
   "source": [
    "def predecir2(p_campaign, p_day, p_contact,p_poutcome, p_month,p_duration,p_pdays):\n",
    "    \n",
    "    data_nueva = {\n",
    "    'campaign': [p_campaign],        \n",
    "    'day': [p_day],         \n",
    "    'contact': [p_contact],  \n",
    "    'poutcome': [p_poutcome],       \n",
    "    'month': [p_month], \n",
    "    'duration': [p_duration],   \n",
    "    'pdays': [p_pdays],       \n",
    "    'y': [0]  \n",
    "    }\n",
    "    \n",
    "    \n",
    "    df_new = pd.DataFrame(data_nueva)\n",
    "\n",
    "    prueba_ds = dataframe_to_dataset(df_new)\n",
    "\n",
    "    prueba_ds = prueba_ds.batch(batch_size)\n",
    "\n",
    "    predicciones = model.predict(prueba_ds)\n",
    "\n",
    "    #predicciones_binarias = (predicciones > 0.5).astype(int)\n",
    "    \n",
    "    return predicciones"
   ]
  },
  {
   "cell_type": "code",
   "execution_count": 105,
   "metadata": {},
   "outputs": [
    {
     "name": "stdout",
     "output_type": "stream",
     "text": [
      "1/1 [==============================] - 0s 158ms/step\n",
      "[[0.2724722]]\n"
     ]
    }
   ],
   "source": [
    "print(predecir2(2,20,'cellular','failure','jan',300,-1))"
   ]
  }
 ],
 "metadata": {
  "kernelspec": {
   "display_name": "Python 3",
   "language": "python",
   "name": "python3"
  },
  "language_info": {
   "codemirror_mode": {
    "name": "ipython",
    "version": 3
   },
   "file_extension": ".py",
   "mimetype": "text/x-python",
   "name": "python",
   "nbconvert_exporter": "python",
   "pygments_lexer": "ipython3",
   "version": "3.11.0"
  }
 },
 "nbformat": 4,
 "nbformat_minor": 2
}
